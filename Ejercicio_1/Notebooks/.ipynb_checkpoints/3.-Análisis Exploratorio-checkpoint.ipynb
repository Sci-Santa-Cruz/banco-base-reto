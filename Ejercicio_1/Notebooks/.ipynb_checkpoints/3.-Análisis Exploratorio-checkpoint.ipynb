{
 "cells": [
  {
   "cell_type": "markdown",
   "id": "28e548df",
   "metadata": {},
   "source": [
    "\n",
    "<div class=\"jumbotron\">\n",
    "  <h1><i class=\"fa fa-bar-chart\" aria-hidden=\"true\"></i> Exploración de datos</h1>\n",
    "  <p></p>\n",
    "</div>"
   ]
  },
  {
   "cell_type": "markdown",
   "id": "83511f2b",
   "metadata": {},
   "source": [
    "### Objetivo\n",
    "\n",
    "Comprender a un nivel granular el contenido de los datos y responder las preguntas de negocio planteadas"
   ]
  },
  {
   "cell_type": "code",
   "execution_count": 1,
   "id": "c3a85594",
   "metadata": {},
   "outputs": [],
   "source": [
    "import pandas as pd\n",
    "import numpy as np\n",
    "import pickle\n",
    "import pandas as pd\n",
    "import os\n",
    "%matplotlib inline\n",
    "import matplotlib.pyplot as plt\n",
    "from sklearn import preprocessing\n",
    "\n",
    "import seaborn as sns\n",
    "\n",
    "sns.set(style=\"whitegrid\")"
   ]
  },
  {
   "cell_type": "markdown",
   "id": "939d34bf-4921-4e8a-896c-a80ce9ccd6f3",
   "metadata": {},
   "source": [
    "<div class=\"alert alert-warning\" role=\"alert\">\n",
    "    <lu>\n",
    "    <li> Prguntas a resolver \n",
    "\n",
    "        \n",
    "        \n",
    "- ¿En qué horarios hay mayor afluencia y en qué estaciones?\n",
    "- Da una breve\n",
    "descripción de por qué crees que es así. \n",
    "- Si consideras remover outliers, justifica el método que empleaste y, en caso de que no remuevas outliers, argumenta\n",
    "estadísticamente tu decisión.\n",
    "  \n",
    "</div>"
   ]
  },
  {
   "cell_type": "markdown",
   "id": "11ad4b52",
   "metadata": {},
   "source": [
    "###  Cargar datos "
   ]
  },
  {
   "cell_type": "code",
   "execution_count": 2,
   "id": "df2f5510",
   "metadata": {},
   "outputs": [],
   "source": [
    "\n",
    "# Load data (deserialize)\n",
    "with open('../data/interim/dataset_cleaning_level_1.pickle','rb') as handle:\n",
    "    df = pickle.load(handle)\n"
   ]
  },
  {
   "cell_type": "markdown",
   "id": "558e6d07",
   "metadata": {},
   "source": [
    "### Show data"
   ]
  },
  {
   "cell_type": "code",
   "execution_count": 3,
   "id": "d1d782db",
   "metadata": {},
   "outputs": [
    {
     "data": {
      "text/html": [
       "<div>\n",
       "<style scoped>\n",
       "    .dataframe tbody tr th:only-of-type {\n",
       "        vertical-align: middle;\n",
       "    }\n",
       "\n",
       "    .dataframe tbody tr th {\n",
       "        vertical-align: top;\n",
       "    }\n",
       "\n",
       "    .dataframe thead th {\n",
       "        text-align: right;\n",
       "    }\n",
       "</style>\n",
       "<table border=\"1\" class=\"dataframe\">\n",
       "  <thead>\n",
       "    <tr style=\"text-align: right;\">\n",
       "      <th></th>\n",
       "      <th>Genero_Usuario</th>\n",
       "      <th>Edad_Usuario</th>\n",
       "      <th>Bici</th>\n",
       "      <th>Ciclo_Estacion_Retiro</th>\n",
       "      <th>Fecha_Retiro</th>\n",
       "      <th>Hora_Retiro</th>\n",
       "      <th>Ciclo_EstacionArribo</th>\n",
       "      <th>Fecha Arribo</th>\n",
       "      <th>Hora_Arribo</th>\n",
       "      <th>Hora_Retiro_</th>\n",
       "      <th>Minuto_Retiro</th>\n",
       "      <th>Segundo_Retiro</th>\n",
       "      <th>Hora_Arribo_</th>\n",
       "      <th>Minuto_Arribo</th>\n",
       "      <th>Segundo_Arribo</th>\n",
       "    </tr>\n",
       "  </thead>\n",
       "  <tbody>\n",
       "    <tr>\n",
       "      <th>0</th>\n",
       "      <td>M</td>\n",
       "      <td>28</td>\n",
       "      <td>11302</td>\n",
       "      <td>73</td>\n",
       "      <td>2021-07-31</td>\n",
       "      <td>23:57:44</td>\n",
       "      <td>62.0</td>\n",
       "      <td>2021-08-01</td>\n",
       "      <td>00:00:08</td>\n",
       "      <td>23</td>\n",
       "      <td>57</td>\n",
       "      <td>44</td>\n",
       "      <td>0</td>\n",
       "      <td>0</td>\n",
       "      <td>8</td>\n",
       "    </tr>\n",
       "    <tr>\n",
       "      <th>1</th>\n",
       "      <td>M</td>\n",
       "      <td>33</td>\n",
       "      <td>10571</td>\n",
       "      <td>121</td>\n",
       "      <td>2021-07-31</td>\n",
       "      <td>23:54:00</td>\n",
       "      <td>143.0</td>\n",
       "      <td>2021-08-01</td>\n",
       "      <td>00:00:59</td>\n",
       "      <td>23</td>\n",
       "      <td>54</td>\n",
       "      <td>0</td>\n",
       "      <td>0</td>\n",
       "      <td>0</td>\n",
       "      <td>59</td>\n",
       "    </tr>\n",
       "    <tr>\n",
       "      <th>2</th>\n",
       "      <td>M</td>\n",
       "      <td>19</td>\n",
       "      <td>12451</td>\n",
       "      <td>132</td>\n",
       "      <td>2021-07-31</td>\n",
       "      <td>23:52:58</td>\n",
       "      <td>122.0</td>\n",
       "      <td>2021-08-01</td>\n",
       "      <td>00:01:24</td>\n",
       "      <td>23</td>\n",
       "      <td>52</td>\n",
       "      <td>58</td>\n",
       "      <td>0</td>\n",
       "      <td>1</td>\n",
       "      <td>24</td>\n",
       "    </tr>\n",
       "    <tr>\n",
       "      <th>3</th>\n",
       "      <td>M</td>\n",
       "      <td>32</td>\n",
       "      <td>8314</td>\n",
       "      <td>7</td>\n",
       "      <td>2021-07-31</td>\n",
       "      <td>23:23:41</td>\n",
       "      <td>7.0</td>\n",
       "      <td>2021-08-01</td>\n",
       "      <td>00:01:25</td>\n",
       "      <td>23</td>\n",
       "      <td>23</td>\n",
       "      <td>41</td>\n",
       "      <td>0</td>\n",
       "      <td>1</td>\n",
       "      <td>25</td>\n",
       "    </tr>\n",
       "    <tr>\n",
       "      <th>4</th>\n",
       "      <td>F</td>\n",
       "      <td>36</td>\n",
       "      <td>7993</td>\n",
       "      <td>7</td>\n",
       "      <td>2021-07-31</td>\n",
       "      <td>23:23:17</td>\n",
       "      <td>7.0</td>\n",
       "      <td>2021-08-01</td>\n",
       "      <td>00:01:32</td>\n",
       "      <td>23</td>\n",
       "      <td>23</td>\n",
       "      <td>17</td>\n",
       "      <td>0</td>\n",
       "      <td>1</td>\n",
       "      <td>32</td>\n",
       "    </tr>\n",
       "  </tbody>\n",
       "</table>\n",
       "</div>"
      ],
      "text/plain": [
       "  Genero_Usuario  Edad_Usuario   Bici  Ciclo_Estacion_Retiro Fecha_Retiro  \\\n",
       "0              M            28  11302                     73   2021-07-31   \n",
       "1              M            33  10571                    121   2021-07-31   \n",
       "2              M            19  12451                    132   2021-07-31   \n",
       "3              M            32   8314                      7   2021-07-31   \n",
       "4              F            36   7993                      7   2021-07-31   \n",
       "\n",
       "  Hora_Retiro  Ciclo_EstacionArribo Fecha Arribo Hora_Arribo  Hora_Retiro_  \\\n",
       "0    23:57:44                  62.0   2021-08-01    00:00:08            23   \n",
       "1    23:54:00                 143.0   2021-08-01    00:00:59            23   \n",
       "2    23:52:58                 122.0   2021-08-01    00:01:24            23   \n",
       "3    23:23:41                   7.0   2021-08-01    00:01:25            23   \n",
       "4    23:23:17                   7.0   2021-08-01    00:01:32            23   \n",
       "\n",
       "   Minuto_Retiro  Segundo_Retiro  Hora_Arribo_  Minuto_Arribo  Segundo_Arribo  \n",
       "0             57              44             0              0               8  \n",
       "1             54               0             0              0              59  \n",
       "2             52              58             0              1              24  \n",
       "3             23              41             0              1              25  \n",
       "4             23              17             0              1              32  "
      ]
     },
     "execution_count": 3,
     "metadata": {},
     "output_type": "execute_result"
    }
   ],
   "source": [
    "df.head(5)"
   ]
  },
  {
   "cell_type": "code",
   "execution_count": 4,
   "id": "8ca011ff-3de1-4c51-856b-e29e5578e3b1",
   "metadata": {},
   "outputs": [
    {
     "data": {
      "text/plain": [
       "Genero_Usuario                   object\n",
       "Edad_Usuario                      int64\n",
       "Bici                              int64\n",
       "Ciclo_Estacion_Retiro             int64\n",
       "Fecha_Retiro             datetime64[ns]\n",
       "Hora_Retiro                      object\n",
       "Ciclo_EstacionArribo            float64\n",
       "Fecha Arribo             datetime64[ns]\n",
       "Hora_Arribo                      object\n",
       "Hora_Retiro_                      int64\n",
       "Minuto_Retiro                     int64\n",
       "Segundo_Retiro                    int64\n",
       "Hora_Arribo_                      int64\n",
       "Minuto_Arribo                     int64\n",
       "Segundo_Arribo                    int64\n",
       "dtype: object"
      ]
     },
     "execution_count": 4,
     "metadata": {},
     "output_type": "execute_result"
    }
   ],
   "source": [
    "df.dtypes"
   ]
  },
  {
   "cell_type": "code",
   "execution_count": 5,
   "id": "8d35226b-855f-499d-942e-3b1a081ffa91",
   "metadata": {},
   "outputs": [],
   "source": [
    "# df.describe()"
   ]
  },
  {
   "cell_type": "markdown",
   "id": "934aa7c6",
   "metadata": {},
   "source": []
  },
  {
   "cell_type": "markdown",
   "id": "103d7a9a-9968-499c-9d5f-a115f101925a",
   "metadata": {},
   "source": [
    "### Número de muestras"
   ]
  },
  {
   "cell_type": "code",
   "execution_count": 6,
   "id": "1f6aec2a-08b9-491d-b854-d512d6c35c04",
   "metadata": {},
   "outputs": [
    {
     "data": {
      "text/plain": [
       "(481341, 15)"
      ]
     },
     "execution_count": 6,
     "metadata": {},
     "output_type": "execute_result"
    }
   ],
   "source": [
    "df.shape"
   ]
  },
  {
   "cell_type": "markdown",
   "id": "59cc85f3-ee41-44d2-bfb2-66591697ecf2",
   "metadata": {},
   "source": [
    "\n",
    "# Fechas"
   ]
  },
  {
   "cell_type": "markdown",
   "id": "a79de869-daff-4e7a-b7d9-c792987c6c70",
   "metadata": {},
   "source": [
    "Verificar que todos los datos pertencescan al rango de fecha establecido"
   ]
  },
  {
   "cell_type": "markdown",
   "id": "07531c22-c645-494a-984d-8ed9efdc6893",
   "metadata": {},
   "source": [
    "### Fecha máxima"
   ]
  },
  {
   "cell_type": "code",
   "execution_count": 7,
   "id": "020ae376-386f-49f6-b2c7-daa6d370eeee",
   "metadata": {},
   "outputs": [
    {
     "data": {
      "text/plain": [
       "Timestamp('2021-10-06 00:00:00')"
      ]
     },
     "execution_count": 7,
     "metadata": {},
     "output_type": "execute_result"
    }
   ],
   "source": [
    "max(df['Fecha_Retiro'])"
   ]
  },
  {
   "cell_type": "markdown",
   "id": "827a98fd-8b65-4190-83ac-00950ace79a6",
   "metadata": {},
   "source": [
    "### Fecha mínima"
   ]
  },
  {
   "cell_type": "code",
   "execution_count": 8,
   "id": "d27d9a1b-d45f-475b-a3e5-2ad0f6e21dca",
   "metadata": {},
   "outputs": [
    {
     "data": {
      "text/plain": [
       "Timestamp('2021-05-04 00:00:00')"
      ]
     },
     "execution_count": 8,
     "metadata": {},
     "output_type": "execute_result"
    }
   ],
   "source": [
    "min(df['Fecha_Retiro'])"
   ]
  },
  {
   "cell_type": "markdown",
   "id": "e683d970-aa08-4823-990a-3cde92e20bd5",
   "metadata": {},
   "source": [
    "<div class=\"alert alert-info\" role=\"alert\">\n",
    "- Se puede notar que existen datos fuera del rango de fecha establecido, por lo que es necesario filtrar los datos.\n",
    "</div>\n"
   ]
  },
  {
   "cell_type": "markdown",
   "id": "3c563e60-dc55-4fbb-9d09-d9b73619f8bd",
   "metadata": {},
   "source": [
    "### Filtro de rango de fechas"
   ]
  },
  {
   "cell_type": "code",
   "execution_count": 9,
   "id": "3c14f4a1-fd19-4493-b63d-2459f51d74fb",
   "metadata": {},
   "outputs": [
    {
     "data": {
      "text/plain": [
       "(481082, 15)"
      ]
     },
     "execution_count": 9,
     "metadata": {},
     "output_type": "execute_result"
    }
   ],
   "source": [
    "df[(df['Fecha_Retiro'] >= \"2021-08-01\") & (df['Fecha_Retiro'] <= \"2021-10-30\")].shape"
   ]
  },
  {
   "cell_type": "code",
   "execution_count": 10,
   "id": "3a544eb3-1fb8-4a39-8be5-9f74768c7f15",
   "metadata": {},
   "outputs": [],
   "source": [
    "df = df[(df['Fecha_Retiro'] >= \"2021-08-01\") & (df['Fecha_Retiro'] <= \"2021-10-30\")]"
   ]
  },
  {
   "cell_type": "code",
   "execution_count": 11,
   "id": "5ee448a3-b6c2-46e7-afbb-5d1c42276fde",
   "metadata": {},
   "outputs": [
    {
     "data": {
      "text/plain": [
       "9307"
      ]
     },
     "execution_count": 11,
     "metadata": {},
     "output_type": "execute_result"
    }
   ],
   "source": [
    "# obtener los datos eliminados\n",
    "1077330 - 1068023"
   ]
  },
  {
   "cell_type": "markdown",
   "id": "71cebc40",
   "metadata": {},
   "source": [
    "<div class=\"alert alert-info\" role=\"alert\">\n",
    "- Se eliminaron 9,307 muestras fuera del rango de fecha establecido\n",
    "</div>\n"
   ]
  },
  {
   "cell_type": "markdown",
   "id": "5806503a-920f-4772-9965-a41b6fc1cae3",
   "metadata": {},
   "source": [
    "## Edad"
   ]
  },
  {
   "cell_type": "markdown",
   "id": "a1abbed4-64f0-4091-966f-c0a0075ca816",
   "metadata": {},
   "source": [
    "Explorar los rango de edades de los usaurios de ECOBICI"
   ]
  },
  {
   "cell_type": "code",
   "execution_count": 12,
   "id": "3c2e9be0-9b41-4345-bc3f-bd62a8326196",
   "metadata": {},
   "outputs": [
    {
     "data": {
      "text/plain": [
       "86"
      ]
     },
     "execution_count": 12,
     "metadata": {},
     "output_type": "execute_result"
    }
   ],
   "source": [
    "# Edad máxima de los usuarios\n",
    "max(df['Edad_Usuario'].unique())"
   ]
  },
  {
   "cell_type": "code",
   "execution_count": 13,
   "id": "5d801560-3ccf-47da-a3bc-3cf3c23dd17b",
   "metadata": {},
   "outputs": [
    {
     "data": {
      "text/plain": [
       "17"
      ]
     },
     "execution_count": 13,
     "metadata": {},
     "output_type": "execute_result"
    }
   ],
   "source": [
    "# Edad mínima de los usuarios\n",
    "min(df['Edad_Usuario'].unique())"
   ]
  },
  {
   "cell_type": "code",
   "execution_count": 14,
   "id": "c78c2875-e636-41d5-a00a-43df2ac13a1b",
   "metadata": {},
   "outputs": [
    {
     "data": {
      "text/plain": [
       "67"
      ]
     },
     "execution_count": 14,
     "metadata": {},
     "output_type": "execute_result"
    }
   ],
   "source": [
    "# Número de edades diferentes en las muestras\n",
    "df['Edad_Usuario'].nunique()"
   ]
  },
  {
   "cell_type": "markdown",
   "id": "78e1cc1e-8072-4213-8844-36e9c0a879a2",
   "metadata": {},
   "source": [
    "## Grafia de barras de la edad de los usuarios"
   ]
  },
  {
   "cell_type": "code",
   "execution_count": 15,
   "id": "725e8fc7",
   "metadata": {},
   "outputs": [],
   "source": [
    "df_tmp = pd.DataFrame(df.groupby('Edad_Usuario')['Bici'].count())\n"
   ]
  },
  {
   "cell_type": "code",
   "execution_count": 16,
   "id": "e856cba4-cf2d-43d3-b5d5-d1d01cfb55d2",
   "metadata": {},
   "outputs": [
    {
     "data": {
      "text/plain": [
       "<AxesSubplot: xlabel='Edad_Usuario'>"
      ]
     },
     "execution_count": 16,
     "metadata": {},
     "output_type": "execute_result"
    },
    {
     "data": {
      "image/png": "[encoded data removed]",
      "text/plain": [
       "<Figure size 1600x900 with 1 Axes>"
      ]
     },
     "metadata": {},
     "output_type": "display_data"
    }
   ],
   "source": [
    "df.groupby('Edad_Usuario')['Bici'].count().plot(kind = 'bar', legend = 'Reverse',figsize=(16,9))\n"
   ]
  },
  {
   "cell_type": "markdown",
   "id": "56e96bd6-2eb4-459e-8d88-95112e566965",
   "metadata": {},
   "source": [
    "## Valores atípicos"
   ]
  },
  {
   "cell_type": "markdown",
   "id": "4ebc8a42",
   "metadata": {},
   "source": [
    "* Al analizar la gráfica de frecuencia de edades se puede observar que una de sus colas (derecha) es más larga que la opuesta.\n",
    "\n",
    "* Se analizaran las edades utilizando una herramineta visual como lo es una gráfica de bigotes.\n",
    "\n"
   ]
  },
  {
   "cell_type": "markdown",
   "id": "3b74347c-6d6f-4cf7-8397-fd7e29dc5c6c",
   "metadata": {},
   "source": [
    "### Gráfica de bigotes utilizando una tranformación min-max"
   ]
  },
  {
   "cell_type": "code",
   "execution_count": 17,
   "id": "af778e50",
   "metadata": {},
   "outputs": [
    {
     "data": {
      "image/png": "[encoded data removed]",
      "text/plain": [
       "<Figure size 640x480 with 1 Axes>"
      ]
     },
     "metadata": {},
     "output_type": "display_data"
    }
   ],
   "source": [
    "\n",
    "x = df['Edad_Usuario'].values #returns a numpy array\n",
    "x = x.reshape(-1, 1)\n",
    "min_max_scaler = preprocessing.MinMaxScaler()\n",
    "x_scaled = min_max_scaler.fit_transform(x)\n",
    "df_min_max = pd.DataFrame(x_scaled)\n",
    "ax = sns.boxplot(data=df_min_max)"
   ]
  },
  {
   "cell_type": "markdown",
   "id": "27e750f1-8ec0-4882-957f-daa4911333a1",
   "metadata": {},
   "source": [
    "### Gráfica de bigotes sin normalización de datos"
   ]
  },
  {
   "cell_type": "code",
   "execution_count": 18,
   "id": "663b74cc",
   "metadata": {},
   "outputs": [
    {
     "data": {
      "image/png": "[encoded data removed]",
      "text/plain": [
       "<Figure size 720x540 with 1 Axes>"
      ]
     },
     "metadata": {},
     "output_type": "display_data"
    }
   ],
   "source": [
    "fig = plt.figure(num = None, figsize = (8, 6), dpi = 90, facecolor = 'w', edgecolor = 'k')\n",
    "plt.grid(True)\n",
    "sns.set(style='darkgrid')\n",
    "ax = sns.boxplot(x=\"Edad_Usuario\", data=df)"
   ]
  },
  {
   "cell_type": "markdown",
   "id": "4fc24793-eee3-4912-9345-801845837d49",
   "metadata": {},
   "source": [
    "<div class=\"alert alert-info\" role=\"alert\">\n",
    "- Ambas gráficas muestra que las edades porteriores a los 62 años se pueden tomar como  punto de datos NO legítimo, ya que están lejos de la media o mediana en la distribución,lo cual concuerda con la definición de Outlier.\n",
    "</div>\n"
   ]
  },
  {
   "cell_type": "markdown",
   "id": "ac5bad06-252e-4877-9dbd-d99f2694afb1",
   "metadata": {},
   "source": [
    "<div class=\"alert alert-info\" role=\"alert\">\n",
    "\n",
    "En la convención basada en gráfica de cajas, los valores atípicos utilizando diagramas de caja y la regla de proximidad del rango intercuartil ( IQR ) se re obtiene de acuerdo con la regla de proximidad IQR, un valor es un valor atípico si cae fuera de estos límites:\n",
    "\n",
    "Límite superior = 75º cuantil + (IQR * 1.5) Límite inferior = 25º cuantil - (IQR * 1.5)\n",
    "\n",
    "Aquí, IQR viene dado por la siguiente ecuación: IQR = 75º cuantil - 25º cuantil\n",
    "\n",
    "Por lo general, calculamos los límites de la regla de proximidad IQR multiplicando el IQR por 1.5\n",
    "</div>\n",
    "\n"
   ]
  },
  {
   "cell_type": "markdown",
   "id": "deccc596-1413-474d-bbce-2dd3fae0e289",
   "metadata": {},
   "source": [
    "\n",
    "\n",
    "<div class=\"alert alert-danger\" role=\"alert\">\n",
    "<ul>\n",
    "    <li>\n",
    "Nota : por falta de tiempo no fue posible explorar a detalles los datos que caen en la categoría de outliers , por tal motivo se omite su eliminación de los análisis posteriores\n",
    " \n",
    "</div>"
   ]
  },
  {
   "cell_type": "markdown",
   "id": "e1992c1f-2a5f-46e7-bce9-d9eb9c01bd16",
   "metadata": {},
   "source": [
    "## Genero del usuario"
   ]
  },
  {
   "cell_type": "code",
   "execution_count": 20,
   "id": "1ca0d9ce-0a70-44b2-b9e2-d265906fc0d7",
   "metadata": {},
   "outputs": [
    {
     "data": {
      "text/plain": [
       "2"
      ]
     },
     "execution_count": 20,
     "metadata": {},
     "output_type": "execute_result"
    }
   ],
   "source": [
    "\n",
    "\n",
    "df['Genero_Usuario'].nunique()\n"
   ]
  },
  {
   "cell_type": "code",
   "execution_count": 21,
   "id": "80e41983-ea03-4efd-ab76-75397feea362",
   "metadata": {},
   "outputs": [
    {
     "data": {
      "text/plain": [
       "<AxesSubplot: xlabel='Genero_Usuario'>"
      ]
     },
     "execution_count": 21,
     "metadata": {},
     "output_type": "execute_result"
    },
    {
     "data": {
      "image/png": "[encoded data removed]",
      "text/plain": [
       "<Figure size 400x400 with 1 Axes>"
      ]
     },
     "metadata": {},
     "output_type": "display_data"
    }
   ],
   "source": [
    "# Gráfica de barras para la variables 'Genero_Usuario'\n",
    "df.groupby('Genero_Usuario')['Bici'].count().plot(kind = 'bar', legend = 'Reverse',figsize=(4,4))\n"
   ]
  },
  {
   "cell_type": "markdown",
   "id": "16323dc3-edb6-4aad-8e78-3509ac285067",
   "metadata": {},
   "source": [
    "<div class=\"alert alert-info\" role=\"alert\">\n",
    "- Existe una desbalance de genero de los usuario de ecobicis"
   ]
  },
  {
   "cell_type": "markdown",
   "id": "7d3263fa",
   "metadata": {},
   "source": [
    "### Agrupación de datos por mes"
   ]
  },
  {
   "cell_type": "code",
   "execution_count": 22,
   "id": "04c33017-e35a-448b-8538-d536d9d54416",
   "metadata": {},
   "outputs": [],
   "source": [
    "# Crear dataframe agrupado por mesç\n",
    "\n",
    "df_tmp  = df.groupby(df.Fecha_Retiro.dt.month).agg(muestras_x_mes=('Bici','count'))\n"
   ]
  },
  {
   "cell_type": "markdown",
   "id": "2fa2f1bd-a190-4841-812c-4eee45b5683c",
   "metadata": {},
   "source": [
    "### Número de muestras por mes "
   ]
  },
  {
   "cell_type": "code",
   "execution_count": 23,
   "id": "b9a34a9e-3efa-4934-81d3-354a13543e23",
   "metadata": {},
   "outputs": [
    {
     "data": {
      "text/html": [
       "<div>\n",
       "<style scoped>\n",
       "    .dataframe tbody tr th:only-of-type {\n",
       "        vertical-align: middle;\n",
       "    }\n",
       "\n",
       "    .dataframe tbody tr th {\n",
       "        vertical-align: top;\n",
       "    }\n",
       "\n",
       "    .dataframe thead th {\n",
       "        text-align: right;\n",
       "    }\n",
       "</style>\n",
       "<table border=\"1\" class=\"dataframe\">\n",
       "  <thead>\n",
       "    <tr style=\"text-align: right;\">\n",
       "      <th></th>\n",
       "      <th>muestras_x_mes</th>\n",
       "    </tr>\n",
       "    <tr>\n",
       "      <th>num_mes</th>\n",
       "      <th></th>\n",
       "    </tr>\n",
       "  </thead>\n",
       "  <tbody>\n",
       "    <tr>\n",
       "      <th>8</th>\n",
       "      <td>78628</td>\n",
       "    </tr>\n",
       "    <tr>\n",
       "      <th>9</th>\n",
       "      <td>338152</td>\n",
       "    </tr>\n",
       "    <tr>\n",
       "      <th>10</th>\n",
       "      <td>64302</td>\n",
       "    </tr>\n",
       "  </tbody>\n",
       "</table>\n",
       "</div>"
      ],
      "text/plain": [
       "         muestras_x_mes\n",
       "num_mes                \n",
       "8                 78628\n",
       "9                338152\n",
       "10                64302"
      ]
     },
     "execution_count": 23,
     "metadata": {},
     "output_type": "execute_result"
    }
   ],
   "source": [
    "df_tmp.index.rename('num_mes', inplace=True)\n",
    "df_tmp"
   ]
  },
  {
   "cell_type": "markdown",
   "id": "46b85fdd-3cc4-422f-a882-9371af0dcfb4",
   "metadata": {},
   "source": [
    "### Promedio aproximado de numero de viajes por mes"
   ]
  },
  {
   "cell_type": "code",
   "execution_count": 24,
   "id": "bf11721e-1baf-4806-aee6-e373055703c4",
   "metadata": {},
   "outputs": [
    {
     "data": {
      "text/plain": [
       "num_mes\n",
       "8      2620.933333\n",
       "9     11271.733333\n",
       "10     2143.400000\n",
       "Name: muestras_x_mes, dtype: float64"
      ]
     },
     "execution_count": 24,
     "metadata": {},
     "output_type": "execute_result"
    }
   ],
   "source": [
    "df_tmp['muestras_x_mes']/30"
   ]
  },
  {
   "cell_type": "markdown",
   "id": "2130f986-6d7a-4dde-8872-03c693c095a0",
   "metadata": {},
   "source": [
    "### Promedio aproximado de numero de viajes para los meses Agosto, Septiembre y Octubre"
   ]
  },
  {
   "cell_type": "code",
   "execution_count": 25,
   "id": "781ad36c-1009-47de-9f06-ed796d96af5d",
   "metadata": {},
   "outputs": [
    {
     "data": {
      "text/plain": [
       "5345.355555555556"
      ]
     },
     "execution_count": 25,
     "metadata": {},
     "output_type": "execute_result"
    }
   ],
   "source": [
    "df_tmp['muestras_x_mes'].sum()/90"
   ]
  },
  {
   "cell_type": "markdown",
   "id": "baaf5739-3d3d-441f-99ac-3d05631df25b",
   "metadata": {},
   "source": [
    "<div class=\"alert alert-info\" role=\"alert\">\n",
    "- Se puede notar que el mes en el que más se utilizan las ecobicis es Octubre, esto puede ser por diversos factores, uno de ellos puede ser el clima de la ciudad.\n",
    "</div>"
   ]
  },
  {
   "cell_type": "markdown",
   "id": "f1ecaa5a-0a51-4b84-a145-a6a2049a7f7b",
   "metadata": {},
   "source": [
    "### Agrupación de datos por mes y hora de retiro\n"
   ]
  },
  {
   "cell_type": "code",
   "execution_count": 26,
   "id": "1e4e7060-02f6-49d2-80c2-94c972b68c56",
   "metadata": {},
   "outputs": [],
   "source": [
    "df_gp_mont_hour = df.groupby([df.Fecha_Retiro.dt.month,'Hora_Retiro_'])['Bici'].count().reset_index(level='Hora_Retiro_')"
   ]
  },
  {
   "cell_type": "code",
   "execution_count": 27,
   "id": "3b0a299d-b41c-43bc-ad4a-efd967be4e8a",
   "metadata": {},
   "outputs": [
    {
     "data": {
      "text/html": [
       "<div>\n",
       "<style scoped>\n",
       "    .dataframe tbody tr th:only-of-type {\n",
       "        vertical-align: middle;\n",
       "    }\n",
       "\n",
       "    .dataframe tbody tr th {\n",
       "        vertical-align: top;\n",
       "    }\n",
       "\n",
       "    .dataframe thead th {\n",
       "        text-align: right;\n",
       "    }\n",
       "</style>\n",
       "<table border=\"1\" class=\"dataframe\">\n",
       "  <thead>\n",
       "    <tr style=\"text-align: right;\">\n",
       "      <th></th>\n",
       "      <th>Hora_Retiro_</th>\n",
       "      <th>Bici</th>\n",
       "    </tr>\n",
       "    <tr>\n",
       "      <th>Fecha_Retiro</th>\n",
       "      <th></th>\n",
       "      <th></th>\n",
       "    </tr>\n",
       "  </thead>\n",
       "  <tbody>\n",
       "    <tr>\n",
       "      <th>9</th>\n",
       "      <td>14</td>\n",
       "      <td>28262</td>\n",
       "    </tr>\n",
       "    <tr>\n",
       "      <th>9</th>\n",
       "      <td>18</td>\n",
       "      <td>26299</td>\n",
       "    </tr>\n",
       "    <tr>\n",
       "      <th>9</th>\n",
       "      <td>15</td>\n",
       "      <td>25849</td>\n",
       "    </tr>\n",
       "    <tr>\n",
       "      <th>9</th>\n",
       "      <td>13</td>\n",
       "      <td>24631</td>\n",
       "    </tr>\n",
       "    <tr>\n",
       "      <th>9</th>\n",
       "      <td>17</td>\n",
       "      <td>23100</td>\n",
       "    </tr>\n",
       "    <tr>\n",
       "      <th>...</th>\n",
       "      <td>...</td>\n",
       "      <td>...</td>\n",
       "    </tr>\n",
       "    <tr>\n",
       "      <th>8</th>\n",
       "      <td>4</td>\n",
       "      <td>37</td>\n",
       "    </tr>\n",
       "    <tr>\n",
       "      <th>10</th>\n",
       "      <td>4</td>\n",
       "      <td>26</td>\n",
       "    </tr>\n",
       "    <tr>\n",
       "      <th>9</th>\n",
       "      <td>1</td>\n",
       "      <td>12</td>\n",
       "    </tr>\n",
       "    <tr>\n",
       "      <th>8</th>\n",
       "      <td>1</td>\n",
       "      <td>3</td>\n",
       "    </tr>\n",
       "    <tr>\n",
       "      <th>10</th>\n",
       "      <td>1</td>\n",
       "      <td>1</td>\n",
       "    </tr>\n",
       "  </tbody>\n",
       "</table>\n",
       "<p>66 rows × 2 columns</p>\n",
       "</div>"
      ],
      "text/plain": [
       "              Hora_Retiro_   Bici\n",
       "Fecha_Retiro                     \n",
       "9                       14  28262\n",
       "9                       18  26299\n",
       "9                       15  25849\n",
       "9                       13  24631\n",
       "9                       17  23100\n",
       "...                    ...    ...\n",
       "8                        4     37\n",
       "10                       4     26\n",
       "9                        1     12\n",
       "8                        1      3\n",
       "10                       1      1\n",
       "\n",
       "[66 rows x 2 columns]"
      ]
     },
     "execution_count": 27,
     "metadata": {},
     "output_type": "execute_result"
    }
   ],
   "source": [
    "df_gp_mont_hour.sort_values(['Bici'],ascending=False,)"
   ]
  },
  {
   "cell_type": "markdown",
   "id": "3ce04459-7851-4434-9701-a887681a10e8",
   "metadata": {},
   "source": [
    "<div class=\"alert alert-info\" role=\"alert\">\n",
    "- Las horas con mayor afluencia (top 5) de bicicletas es a la hora de comida 15 y 14 horas y al final de la jornada laboral entre las 18 y 19 horas\n",
    "</div>"
   ]
  },
  {
   "cell_type": "markdown",
   "id": "16bae863-d1f2-4d1f-b099-3b760bca4267",
   "metadata": {},
   "source": [
    "### Agrupación de datos por hora de retiro de ECOBICI\n"
   ]
  },
  {
   "cell_type": "code",
   "execution_count": 28,
   "id": "f8d8cfd7-3016-4ad2-a070-993e6d94a9dc",
   "metadata": {},
   "outputs": [
    {
     "data": {
      "text/html": [
       "<div>\n",
       "<style scoped>\n",
       "    .dataframe tbody tr th:only-of-type {\n",
       "        vertical-align: middle;\n",
       "    }\n",
       "\n",
       "    .dataframe tbody tr th {\n",
       "        vertical-align: top;\n",
       "    }\n",
       "\n",
       "    .dataframe thead th {\n",
       "        text-align: right;\n",
       "    }\n",
       "</style>\n",
       "<table border=\"1\" class=\"dataframe\">\n",
       "  <thead>\n",
       "    <tr style=\"text-align: right;\">\n",
       "      <th></th>\n",
       "      <th>Hora_Retiro_</th>\n",
       "      <th>Bici</th>\n",
       "    </tr>\n",
       "  </thead>\n",
       "  <tbody>\n",
       "    <tr>\n",
       "      <th>12</th>\n",
       "      <td>14</td>\n",
       "      <td>40784</td>\n",
       "    </tr>\n",
       "    <tr>\n",
       "      <th>13</th>\n",
       "      <td>15</td>\n",
       "      <td>37129</td>\n",
       "    </tr>\n",
       "    <tr>\n",
       "      <th>16</th>\n",
       "      <td>18</td>\n",
       "      <td>36252</td>\n",
       "    </tr>\n",
       "    <tr>\n",
       "      <th>11</th>\n",
       "      <td>13</td>\n",
       "      <td>36217</td>\n",
       "    </tr>\n",
       "    <tr>\n",
       "      <th>7</th>\n",
       "      <td>9</td>\n",
       "      <td>33362</td>\n",
       "    </tr>\n",
       "  </tbody>\n",
       "</table>\n",
       "</div>"
      ],
      "text/plain": [
       "    Hora_Retiro_   Bici\n",
       "12            14  40784\n",
       "13            15  37129\n",
       "16            18  36252\n",
       "11            13  36217\n",
       "7              9  33362"
      ]
     },
     "execution_count": 28,
     "metadata": {},
     "output_type": "execute_result"
    }
   ],
   "source": [
    "df.groupby(['Hora_Retiro_'])['Bici'].count().reset_index(level='Hora_Retiro_').sort_values(by=['Bici'],ascending=False).head(5)"
   ]
  },
  {
   "cell_type": "markdown",
   "id": "1647c735-d273-4623-a548-3933db5d845a",
   "metadata": {},
   "source": [
    "<div class=\"alert alert-info\" role=\"alert\">\n",
    "- La tabla muestra que si no se toma encuenta la variable 'mes', las horas con mayor afluencia son la hora de salidad laboral (18 hrs) , la hora de la comida (13,14 y 15 hrs) y la hora de entrada laboral (8 hrs).\n",
    "</div>"
   ]
  },
  {
   "cell_type": "markdown",
   "id": "42ee1613-6a19-46d6-8580-f02a100e1643",
   "metadata": {},
   "source": [
    "### Gráfica de uso de ecobicis por hora en los meses Agosto , Septiembre y Octubre"
   ]
  },
  {
   "cell_type": "code",
   "execution_count": 29,
   "id": "9d9ec11a-6edd-4b51-859c-689f11509047",
   "metadata": {},
   "outputs": [
    {
     "data": {
      "image/png": "[encoded data removed]",
      "text/plain": [
       "<Figure size 900x900 with 4 Axes>"
      ]
     },
     "metadata": {},
     "output_type": "display_data"
    }
   ],
   "source": [
    "fig, axes = plt.subplots(nrows=2, ncols=2,figsize=(9, 9))\n",
    "axe = axes.ravel()\n",
    "\n",
    "\n",
    "for index, item in enumerate(df_gp_mont_hour.index.unique()):\n",
    "    df_tem = df_gp_mont_hour[df_gp_mont_hour.index == item]\n",
    "    df_tem.plot(x ='Hora_Retiro_', y='Bici', kind = 'line',ax=axe.flat[index])\n",
    "    # plt.xlabel(\"\")\n",
    "    # plt.ylabel(\"\")"
   ]
  },
  {
   "cell_type": "markdown",
   "id": "f9743105-5bd1-41de-8258-c654e7021697",
   "metadata": {},
   "source": [
    "<div class=\"alert alert-info\" role=\"alert\">\n",
    "- Las gráficas refuerzan la idea expuesta anteriormente sobre las horas con mayor afluencia \n",
    "</div>"
   ]
  },
  {
   "cell_type": "markdown",
   "id": "8476171f-2ccc-4881-a660-c7ac597ac2f1",
   "metadata": {},
   "source": [
    "### Agrupación por estación de retiro y hora de retiro"
   ]
  },
  {
   "cell_type": "code",
   "execution_count": 30,
   "id": "bb508820",
   "metadata": {},
   "outputs": [
    {
     "data": {
      "text/html": [
       "<div>\n",
       "<style scoped>\n",
       "    .dataframe tbody tr th:only-of-type {\n",
       "        vertical-align: middle;\n",
       "    }\n",
       "\n",
       "    .dataframe tbody tr th {\n",
       "        vertical-align: top;\n",
       "    }\n",
       "\n",
       "    .dataframe thead th {\n",
       "        text-align: right;\n",
       "    }\n",
       "</style>\n",
       "<table border=\"1\" class=\"dataframe\">\n",
       "  <thead>\n",
       "    <tr style=\"text-align: right;\">\n",
       "      <th></th>\n",
       "      <th>Ciclo_Estacion_Retiro</th>\n",
       "      <th>Hora_Retiro_</th>\n",
       "      <th>count</th>\n",
       "    </tr>\n",
       "  </thead>\n",
       "  <tbody>\n",
       "    <tr>\n",
       "      <th>0</th>\n",
       "      <td>266</td>\n",
       "      <td>8</td>\n",
       "      <td>709</td>\n",
       "    </tr>\n",
       "    <tr>\n",
       "      <th>1</th>\n",
       "      <td>272</td>\n",
       "      <td>8</td>\n",
       "      <td>513</td>\n",
       "    </tr>\n",
       "    <tr>\n",
       "      <th>2</th>\n",
       "      <td>271</td>\n",
       "      <td>8</td>\n",
       "      <td>502</td>\n",
       "    </tr>\n",
       "    <tr>\n",
       "      <th>3</th>\n",
       "      <td>271</td>\n",
       "      <td>7</td>\n",
       "      <td>500</td>\n",
       "    </tr>\n",
       "    <tr>\n",
       "      <th>4</th>\n",
       "      <td>1</td>\n",
       "      <td>14</td>\n",
       "      <td>399</td>\n",
       "    </tr>\n",
       "  </tbody>\n",
       "</table>\n",
       "</div>"
      ],
      "text/plain": [
       "   Ciclo_Estacion_Retiro  Hora_Retiro_  count\n",
       "0                    266             8    709\n",
       "1                    272             8    513\n",
       "2                    271             8    502\n",
       "3                    271             7    500\n",
       "4                      1            14    399"
      ]
     },
     "metadata": {},
     "output_type": "display_data"
    }
   ],
   "source": [
    "display(df.groupby(['Ciclo_Estacion_Retiro','Hora_Retiro_'])['Hora_Retiro'].count().sort_values(ascending=False).reset_index(name='count').head(5))\n"
   ]
  },
  {
   "cell_type": "markdown",
   "id": "fa79a8fb-a700-4870-848d-e45e4815e6e4",
   "metadata": {},
   "source": [
    "<div class=\"alert alert-info\" role=\"alert\">\n",
    "- Durante el pico matutino que corresponde a los horarios entre las 7 y las 9 de la mañana se puede notar que existe una mayor afluencia de uso del transporte en la cicloestaciones circundantes a a la estación del tren ligero de Buenavista. Esto puede deberse a que la estación Buenavista es un punto estrategico de conexiones con las estaciones y paradas de diversos sistemas de transportese ( CETRAM, Metro y Metrobús) y una conexión entre CDMX y es estado de México además de que en dicho lugar se encuentra uno de los centros comerciales más grandes de la ciudad, Forum Buenavista. \n",
    "    \n",
    "- El top de la lista se encuentra en la estación 266 (CE-266-267 Jesús García - Carlos J. Meneses) con 1,604 viajes para los meses en cuestión y el segundo lugar lo toma la estación 272 (CE-271-272 Jesús García - Carlos J. Meneses) con 1,071 viajes trimestrales iniciados.\n",
    "</div>"
   ]
  },
  {
   "cell_type": "markdown",
   "id": "209d7b3b-aa9c-40da-8147-85901623dde2",
   "metadata": {},
   "source": [
    "### Agrupación por estación de retiro"
   ]
  },
  {
   "cell_type": "code",
   "execution_count": 31,
   "id": "acedc964-d5c0-47e0-9847-7d899c54cef8",
   "metadata": {},
   "outputs": [
    {
     "data": {
      "text/html": [
       "<div>\n",
       "<style scoped>\n",
       "    .dataframe tbody tr th:only-of-type {\n",
       "        vertical-align: middle;\n",
       "    }\n",
       "\n",
       "    .dataframe tbody tr th {\n",
       "        vertical-align: top;\n",
       "    }\n",
       "\n",
       "    .dataframe thead th {\n",
       "        text-align: right;\n",
       "    }\n",
       "</style>\n",
       "<table border=\"1\" class=\"dataframe\">\n",
       "  <thead>\n",
       "    <tr style=\"text-align: right;\">\n",
       "      <th></th>\n",
       "      <th>Ciclo_Estacion_Retiro</th>\n",
       "      <th>count</th>\n",
       "    </tr>\n",
       "  </thead>\n",
       "  <tbody>\n",
       "    <tr>\n",
       "      <th>0</th>\n",
       "      <td>271</td>\n",
       "      <td>3800</td>\n",
       "    </tr>\n",
       "    <tr>\n",
       "      <th>1</th>\n",
       "      <td>1</td>\n",
       "      <td>3754</td>\n",
       "    </tr>\n",
       "    <tr>\n",
       "      <th>2</th>\n",
       "      <td>41</td>\n",
       "      <td>3617</td>\n",
       "    </tr>\n",
       "    <tr>\n",
       "      <th>3</th>\n",
       "      <td>27</td>\n",
       "      <td>3308</td>\n",
       "    </tr>\n",
       "    <tr>\n",
       "      <th>4</th>\n",
       "      <td>64</td>\n",
       "      <td>3282</td>\n",
       "    </tr>\n",
       "  </tbody>\n",
       "</table>\n",
       "</div>"
      ],
      "text/plain": [
       "   Ciclo_Estacion_Retiro  count\n",
       "0                    271   3800\n",
       "1                      1   3754\n",
       "2                     41   3617\n",
       "3                     27   3308\n",
       "4                     64   3282"
      ]
     },
     "metadata": {},
     "output_type": "display_data"
    }
   ],
   "source": [
    "display(df.groupby(['Ciclo_Estacion_Retiro'])['Bici'].count().sort_values(ascending=False).reset_index(name='count').head(5))\n"
   ]
  },
  {
   "cell_type": "markdown",
   "id": "618d9972-8e09-4ed6-bc3d-c155c2d104a9",
   "metadata": {},
   "source": [
    "<div class=\"alert alert-info\" role=\"alert\">\n",
    "- Se segmentamos los datos sólo utilizando la variables de estación de retiro (omitiendo la hora de retiro) se puede obervar que la estación 271 coninua en el top 5 , para este caso, tomando el titulo de la estaciñon con más viajes de inicio de las rutas de ECOBICI\n",
    "</div>"
   ]
  },
  {
   "cell_type": "markdown",
   "id": "588c09c4-b768-4e6b-8815-3a7c4ca43233",
   "metadata": {},
   "source": [
    "# Cluestering"
   ]
  },
  {
   "cell_type": "markdown",
   "id": "24a0bc09-c263-42d4-bdf1-19a3467b102f",
   "metadata": {},
   "source": [
    "Usa un método de aprendizaje no supervisado para encontrar perfiles de uso de las estaciones. El objetivo es categorizar a las estaciones en diferentes grupos a partir de su comportamiento de entradas, salidas y tipo de usuarios.\n",
    "\n",
    "- Explica qué método usaste y por qué.\n",
    "- Describe detalladamente cómo decidiste el número de grupos. Es decir:\n",
    "¿qué criterio elegiste?, ¿por qué? y ¿de qué tipo? Por ejemplo, di si utilizaste\n",
    "un criterio de información o un criterio no cuantitativo.\n",
    "- De los grupos que encontraste, describe las características que puedes\n",
    "inferir de estos."
   ]
  },
  {
   "cell_type": "markdown",
   "id": "9fdaccf7-4bc7-485a-8051-f0db63e5e70f",
   "metadata": {},
   "source": [
    "## Descripción de la solución:  \n",
    "\n",
    "- Se utilizara k-means para explorar grupos comunes de usuarios que utilizan las diversas estaciones de ECOBICI.\n",
    "- Debido a la falta de tiempo no es posible agregar contexto geoespacial a los datos, por lo tanto los grupos se basaran en la similaridad de los usuarios de acuerdo a un contexto temporal, de genero y de edad.\n",
    "- Posteriormente se experimentará para tratar de encontrar el número óptimo de cluster para los datos \n",
    "- Por se experimentará con otras técnicas de clustering\n",
    "\n",
    "Como primer paso, transformaremos las variables de tiempo y fecha a un formato que puedan utilizanr los algorimos de machine learning para detectar patrones"
   ]
  },
  {
   "cell_type": "markdown",
   "id": "9f927a78",
   "metadata": {},
   "source": [
    "### Encoding Cyclical Features"
   ]
  },
  {
   "cell_type": "markdown",
   "id": "073ba82c-30e3-4dbd-8dac-e73ffb3e9c04",
   "metadata": {},
   "source": []
  },
  {
   "cell_type": "markdown",
   "id": "996aa60c",
   "metadata": {},
   "source": [
    "Un método común para codificar datos cíclicos es transformar los datos en dos dimensiones utilizando una transformación de seno y conseno"
   ]
  },
  {
   "cell_type": "code",
   "execution_count": 32,
   "id": "8456e7a3",
   "metadata": {},
   "outputs": [],
   "source": [
    "df['Hora_Retiro_sin'] = np.sin(2 * np.pi * df['Hora_Retiro_']/24.0)\n",
    "df['Hora_Retiro_cos'] = np.cos(2 * np.pi * df['Hora_Retiro_']/24.0)"
   ]
  },
  {
   "cell_type": "code",
   "execution_count": 33,
   "id": "d67fcd3f",
   "metadata": {},
   "outputs": [],
   "source": [
    "df['Minuto_Retiro_sin'] = np.sin(2 * np.pi * df['Minuto_Retiro']/60.0)\n",
    "df['Minuto_Retiro_cos'] = np.cos(2 * np.pi * df['Minuto_Retiro']/60.0)"
   ]
  },
  {
   "cell_type": "code",
   "execution_count": 34,
   "id": "00f1f748",
   "metadata": {},
   "outputs": [],
   "source": [
    "df['Dia_Retiro_sin'] = np.sin(2 * np.pi * df.Fecha_Retiro.dt.day/31.0)\n",
    "df['Dia_Retiro_cos'] = np.cos(2 * np.pi * df.Fecha_Retiro.dt.day/31.0)"
   ]
  },
  {
   "cell_type": "markdown",
   "id": "b77fd3ac",
   "metadata": {},
   "source": [
    "Variables \n",
    "\n",
    "- Edad de Usuario\n",
    "- Genero de Usuario\n",
    "- Fecha de Retiro (día)\n",
    "- Hora de retiro\n",
    "\n",
    "\n",
    "- Número retiros por hora\n"
   ]
  },
  {
   "cell_type": "markdown",
   "id": "a666b895",
   "metadata": {},
   "source": [
    "### \n"
   ]
  },
  {
   "cell_type": "markdown",
   "id": "bb0cd6df",
   "metadata": {},
   "source": [
    "<div class=\"alert alert-danger\" role=\"alert\">\n",
    "<ul>\n",
    "    <li>\n",
    "    Por falta de tiempo no es posible concluir esta sección\n",
    "\n",
    " \n",
    "</div>"
   ]
  },
  {
   "cell_type": "code",
   "execution_count": null,
   "id": "b78f552f-7463-4f4f-93cf-791c75fd2305",
   "metadata": {},
   "outputs": [],
   "source": []
  }
 ],
 "metadata": {
  "kernelspec": {
   "display_name": "Python 3 (ipykernel)",
   "language": "python",
   "name": "python3"
  },
  "language_info": {
   "codemirror_mode": {
    "name": "ipython",
    "version": 3
   },
   "file_extension": ".py",
   "mimetype": "text/x-python",
   "name": "python",
   "nbconvert_exporter": "python",
   "pygments_lexer": "ipython3",
   "version": "3.9.7"
  }
 },
 "nbformat": 4,
 "nbformat_minor": 5
}
