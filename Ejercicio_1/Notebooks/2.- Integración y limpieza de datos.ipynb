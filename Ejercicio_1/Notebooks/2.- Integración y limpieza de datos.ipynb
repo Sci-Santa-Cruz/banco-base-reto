{
 "cells": [
  {
   "cell_type": "markdown",
   "metadata": {},
   "source": [
    "\n",
    "<div class=\"jumbotron\">\n",
    "  <h1><i class=\"fa fa-bar-chart\" aria-hidden=\"true\"></i> Integracción y limpieza</h1>\n",
    "  <p></p>\n",
    "</div>"
   ]
  },
  {
   "cell_type": "markdown",
   "metadata": {},
   "source": [
    "### Objetivo\n",
    "\n",
    "Integrar todas las fuentes de datos en un único archivo con formato PICKLE, el cual sera utilizado en los pasos de análisis. El archivo se almacena en el folder `data/interim/`."
   ]
  },
  {
   "cell_type": "code",
   "execution_count": 1,
   "metadata": {},
   "outputs": [
    {
     "name": "stdout",
     "output_type": "stream",
     "text": [
      "Using matplotlib backend: <object object at 0xffff62609360>\n"
     ]
    }
   ],
   "source": [
    "import pandas as pd\n",
    "import  pickle\n",
    "import numpy as np\n",
    "%matplotlib auto\n",
    "#cargar biblioteca de gráficos\n",
    "import seaborn as sns\n",
    "sns.set(style=\"ticks\")\n",
    "import pandas as pd\n",
    "import glob\n",
    "from matplotlib import pyplot as plt\n",
    "import os\n",
    "import urllib.request\n",
    "from os import path\n",
    "\n",
    "pd.set_option('display.width', 1000)\n"
   ]
  },
  {
   "cell_type": "markdown",
   "metadata": {},
   "source": [
    "### Obtención de los datos "
   ]
  },
  {
   "cell_type": "code",
   "execution_count": 2,
   "metadata": {},
   "outputs": [],
   "source": [
    "# Lista de URs de los meses que se analizan \n",
    "urls = ['https://ecobici.cdmx.gob.mx/wp-content/uploads/2022/07/2021-08.csv',\n",
    "        'https://ecobici.cdmx.gob.mx/wp-content/uploads/2022/07/2021-09.csv',\n",
    "        'https://ecobici.cdmx.gob.mx/wp-content/uploads/2022/07/2021-10.csv']\n",
    "\n",
    "# Download\n",
    "for url in urls :\n",
    "    filename = url.split('/')[-1]\n",
    "    path_file = '../data/raw/' + filename\n",
    "    if not path.exists(path_file):\n",
    "        urllib.request.urlretrieve(url, path_file)"
   ]
  },
  {
   "cell_type": "markdown",
   "metadata": {},
   "source": [
    "# Fuentes y diccionario de datos\n",
    "\n",
    "## Sobre los datos\n",
    "\n",
    "El dataset de este ejemplo ha sido obtenido de el portal de datos abiertos de Ecobici (https://ecobici.cdmx.gob.mx/datos-abiertos/) , un servicio de renta de bicicletas que ofrece el gobierno de la Ciudad de México. Tiene las siguientes características:\n",
    "\n",
    "- Histórico de 2010 a 2023 de los cuales sólo se toma los meses Agosto, Septiembre y Octubre de año 2021\n",
    "- Los eventos registrados son las disposiciones y retornos de bicicletas en cualquiera de las estaciones de servicio\n",
    "\n",
    "\n",
    "## Diccionario de datos\n",
    "\n",
    "* Genero_Usuario: Genero de usuario (M|F)\n",
    "* Edad_Usuario: Edad del usuario\n",
    "* Bici: ID de la bicicleta\n",
    "* Ciclo_Estacion_Retiro: Número de las cicloestación de retiro\n",
    "* Fecha_Retiro: Fecha en que la bicicleta comienza a ser utilizada por algún usuario de Ecobici (DD:MM:AAAA)\n",
    "* Hora_Retiro: Hora en que la bicicleta comienza a ser utilizada por algún usuario de Ecobici (HH:mm:ss)\n",
    "* Ciclo_EstacionArribo: Número de las cicloestación de arribo\n",
    "* Fecha Arribo: Fecha en que el usuario vuelve a colocar la bicicleta en alguna cicloestación (DD:MM:AAAA)\n",
    "* Hora_Arribo : Hora en que el usuario vuelve a colocar la bicicleta en alguna cicloestación (HH:mm:ss)\n",
    "\n",
    "# ¿Qué transformaciones ha sufrido el archivo?\n",
    "\n",
    "Los datos originalmente fueron descargados desde el website mencionado arriba, request por request, con un script de scrapping en python. Se descarcaron en formato CSV individuales y se agregarón al ambiente local de datos en el folder 'raw'\n",
    "\n",
    "El folder 'raw'tambien almacena dos archivos que contien la ubicación de cada una de las estaciones de ECOBICI asi como su diccionario de datos respectivamente. Dichos archivos fueron obtenidos de https://datos.cdmx.gob.mx/dataset/infraestructura-vial-ciclista\n",
    "\n",
    "- ecobici_cicloestaciones.xlsx\n",
    "- mibici_descriptor_cartografia.xlsx\n",
    "\n"
   ]
  },
  {
   "cell_type": "markdown",
   "metadata": {},
   "source": [
    "### Cargar datos"
   ]
  },
  {
   "cell_type": "code",
   "execution_count": 3,
   "metadata": {},
   "outputs": [],
   "source": [
    "# Cargar todos los archivos\n",
    "path = os.getcwd()\n",
    "all_files = glob.glob(os.path.join(path , \"../data/raw/*.csv\"))\n",
    "\n",
    "#lista de dataframes\n",
    "li = []\n",
    "\n",
    "for filename in all_files:\n",
    "    df = pd.read_csv(filename, index_col=None, header=0)\n",
    "    li.append(df)\n",
    "\n",
    "df = pd.concat(li, axis=0, ignore_index=True)"
   ]
  },
  {
   "cell_type": "code",
   "execution_count": null,
   "metadata": {},
   "outputs": [],
   "source": []
  },
  {
   "cell_type": "code",
   "execution_count": 4,
   "metadata": {},
   "outputs": [
    {
     "data": {
      "text/html": [
       "<div>\n",
       "<style scoped>\n",
       "    .dataframe tbody tr th:only-of-type {\n",
       "        vertical-align: middle;\n",
       "    }\n",
       "\n",
       "    .dataframe tbody tr th {\n",
       "        vertical-align: top;\n",
       "    }\n",
       "\n",
       "    .dataframe thead th {\n",
       "        text-align: right;\n",
       "    }\n",
       "</style>\n",
       "<table border=\"1\" class=\"dataframe\">\n",
       "  <thead>\n",
       "    <tr style=\"text-align: right;\">\n",
       "      <th></th>\n",
       "      <th>Genero_Usuario</th>\n",
       "      <th>Edad_Usuario</th>\n",
       "      <th>Bici</th>\n",
       "      <th>Ciclo_Estacion_Retiro</th>\n",
       "      <th>Fecha_Retiro</th>\n",
       "      <th>Hora_Retiro</th>\n",
       "      <th>Ciclo_EstacionArribo</th>\n",
       "      <th>Fecha Arribo</th>\n",
       "      <th>Hora_Arribo</th>\n",
       "    </tr>\n",
       "  </thead>\n",
       "  <tbody>\n",
       "    <tr>\n",
       "      <th>0</th>\n",
       "      <td>M</td>\n",
       "      <td>28</td>\n",
       "      <td>11302</td>\n",
       "      <td>73</td>\n",
       "      <td>31/07/2021</td>\n",
       "      <td>23:57:44</td>\n",
       "      <td>62.0</td>\n",
       "      <td>01/08/2021</td>\n",
       "      <td>00:00:08</td>\n",
       "    </tr>\n",
       "    <tr>\n",
       "      <th>1</th>\n",
       "      <td>M</td>\n",
       "      <td>33</td>\n",
       "      <td>10571</td>\n",
       "      <td>121</td>\n",
       "      <td>31/07/2021</td>\n",
       "      <td>23:54:00</td>\n",
       "      <td>143.0</td>\n",
       "      <td>01/08/2021</td>\n",
       "      <td>00:00:59</td>\n",
       "    </tr>\n",
       "    <tr>\n",
       "      <th>2</th>\n",
       "      <td>M</td>\n",
       "      <td>19</td>\n",
       "      <td>12451</td>\n",
       "      <td>132</td>\n",
       "      <td>31/07/2021</td>\n",
       "      <td>23:52:58</td>\n",
       "      <td>122.0</td>\n",
       "      <td>01/08/2021</td>\n",
       "      <td>00:01:24</td>\n",
       "    </tr>\n",
       "    <tr>\n",
       "      <th>3</th>\n",
       "      <td>M</td>\n",
       "      <td>32</td>\n",
       "      <td>8314</td>\n",
       "      <td>7</td>\n",
       "      <td>31/07/2021</td>\n",
       "      <td>23:23:41</td>\n",
       "      <td>7.0</td>\n",
       "      <td>01/08/2021</td>\n",
       "      <td>00:01:25</td>\n",
       "    </tr>\n",
       "    <tr>\n",
       "      <th>4</th>\n",
       "      <td>F</td>\n",
       "      <td>36</td>\n",
       "      <td>7993</td>\n",
       "      <td>7</td>\n",
       "      <td>31/07/2021</td>\n",
       "      <td>23:23:17</td>\n",
       "      <td>7.0</td>\n",
       "      <td>01/08/2021</td>\n",
       "      <td>00:01:32</td>\n",
       "    </tr>\n",
       "    <tr>\n",
       "      <th>5</th>\n",
       "      <td>M</td>\n",
       "      <td>34</td>\n",
       "      <td>10675</td>\n",
       "      <td>136</td>\n",
       "      <td>31/07/2021</td>\n",
       "      <td>23:56:42</td>\n",
       "      <td>68.0</td>\n",
       "      <td>01/08/2021</td>\n",
       "      <td>00:02:23</td>\n",
       "    </tr>\n",
       "    <tr>\n",
       "      <th>6</th>\n",
       "      <td>M</td>\n",
       "      <td>35</td>\n",
       "      <td>3922</td>\n",
       "      <td>465</td>\n",
       "      <td>31/07/2021</td>\n",
       "      <td>23:49:01</td>\n",
       "      <td>461.0</td>\n",
       "      <td>01/08/2021</td>\n",
       "      <td>00:02:45</td>\n",
       "    </tr>\n",
       "    <tr>\n",
       "      <th>7</th>\n",
       "      <td>M</td>\n",
       "      <td>35</td>\n",
       "      <td>10911</td>\n",
       "      <td>237</td>\n",
       "      <td>31/07/2021</td>\n",
       "      <td>23:29:25</td>\n",
       "      <td>24.0</td>\n",
       "      <td>01/08/2021</td>\n",
       "      <td>00:03:05</td>\n",
       "    </tr>\n",
       "    <tr>\n",
       "      <th>8</th>\n",
       "      <td>M</td>\n",
       "      <td>31</td>\n",
       "      <td>8901</td>\n",
       "      <td>237</td>\n",
       "      <td>31/07/2021</td>\n",
       "      <td>23:29:38</td>\n",
       "      <td>24.0</td>\n",
       "      <td>01/08/2021</td>\n",
       "      <td>00:03:12</td>\n",
       "    </tr>\n",
       "    <tr>\n",
       "      <th>9</th>\n",
       "      <td>F</td>\n",
       "      <td>37</td>\n",
       "      <td>6763</td>\n",
       "      <td>369</td>\n",
       "      <td>01/08/2021</td>\n",
       "      <td>00:00:25</td>\n",
       "      <td>366.0</td>\n",
       "      <td>01/08/2021</td>\n",
       "      <td>00:03:31</td>\n",
       "    </tr>\n",
       "  </tbody>\n",
       "</table>\n",
       "</div>"
      ],
      "text/plain": [
       "  Genero_Usuario  Edad_Usuario   Bici  Ciclo_Estacion_Retiro Fecha_Retiro Hora_Retiro  Ciclo_EstacionArribo Fecha Arribo Hora_Arribo\n",
       "0              M            28  11302                     73   31/07/2021    23:57:44                  62.0   01/08/2021    00:00:08\n",
       "1              M            33  10571                    121   31/07/2021    23:54:00                 143.0   01/08/2021    00:00:59\n",
       "2              M            19  12451                    132   31/07/2021    23:52:58                 122.0   01/08/2021    00:01:24\n",
       "3              M            32   8314                      7   31/07/2021    23:23:41                   7.0   01/08/2021    00:01:25\n",
       "4              F            36   7993                      7   31/07/2021    23:23:17                   7.0   01/08/2021    00:01:32\n",
       "5              M            34  10675                    136   31/07/2021    23:56:42                  68.0   01/08/2021    00:02:23\n",
       "6              M            35   3922                    465   31/07/2021    23:49:01                 461.0   01/08/2021    00:02:45\n",
       "7              M            35  10911                    237   31/07/2021    23:29:25                  24.0   01/08/2021    00:03:05\n",
       "8              M            31   8901                    237   31/07/2021    23:29:38                  24.0   01/08/2021    00:03:12\n",
       "9              F            37   6763                    369   01/08/2021    00:00:25                 366.0   01/08/2021    00:03:31"
      ]
     },
     "execution_count": 4,
     "metadata": {},
     "output_type": "execute_result"
    }
   ],
   "source": [
    "df.head(10)"
   ]
  },
  {
   "cell_type": "code",
   "execution_count": null,
   "metadata": {},
   "outputs": [],
   "source": []
  },
  {
   "cell_type": "markdown",
   "metadata": {},
   "source": [
    "### Dimensiones del dataframe "
   ]
  },
  {
   "cell_type": "code",
   "execution_count": 5,
   "metadata": {},
   "outputs": [
    {
     "data": {
      "text/plain": [
       "(492101, 9)"
      ]
     },
     "execution_count": 5,
     "metadata": {},
     "output_type": "execute_result"
    }
   ],
   "source": [
    "df.shape"
   ]
  },
  {
   "cell_type": "markdown",
   "metadata": {},
   "source": [
    "<div class=\"alert alert-info\" role=\"alert\">\n",
    "<ul>\n",
    "<li> El dataset cuenta con 1,114,357 de ejemplos </ul>\n",
    "</div>"
   ]
  },
  {
   "cell_type": "markdown",
   "metadata": {},
   "source": [
    "### Features "
   ]
  },
  {
   "cell_type": "code",
   "execution_count": 6,
   "metadata": {},
   "outputs": [
    {
     "data": {
      "text/plain": [
       "Index(['Genero_Usuario', 'Edad_Usuario', 'Bici', 'Ciclo_Estacion_Retiro', 'Fecha_Retiro', 'Hora_Retiro', 'Ciclo_EstacionArribo', 'Fecha Arribo', 'Hora_Arribo'], dtype='object')"
      ]
     },
     "execution_count": 6,
     "metadata": {},
     "output_type": "execute_result"
    }
   ],
   "source": [
    "# Nombre de las columnas\n",
    "df.columns"
   ]
  },
  {
   "cell_type": "markdown",
   "metadata": {},
   "source": [
    "### Cambiar el nombre de las variables\n",
    "\n",
    "NA"
   ]
  },
  {
   "cell_type": "markdown",
   "metadata": {},
   "source": [
    "### Valores nulos o faltantes"
   ]
  },
  {
   "cell_type": "code",
   "execution_count": 7,
   "metadata": {},
   "outputs": [
    {
     "data": {
      "text/plain": [
       "Genero_Usuario           10758\n",
       "Edad_Usuario                 0\n",
       "Bici                         0\n",
       "Ciclo_Estacion_Retiro        0\n",
       "Fecha_Retiro                 0\n",
       "Hora_Retiro                  1\n",
       "Ciclo_EstacionArribo         2\n",
       "Fecha Arribo                 2\n",
       "Hora_Arribo                  2\n",
       "dtype: int64"
      ]
     },
     "execution_count": 7,
     "metadata": {},
     "output_type": "execute_result"
    }
   ],
   "source": [
    "df.isnull().sum()"
   ]
  },
  {
   "cell_type": "markdown",
   "metadata": {},
   "source": [
    "### Valores nulos como porcentaje "
   ]
  },
  {
   "cell_type": "code",
   "execution_count": 8,
   "metadata": {},
   "outputs": [
    {
     "data": {
      "text/plain": [
       "Genero_Usuario           2.186137\n",
       "Ciclo_EstacionArribo     0.000406\n",
       "Fecha Arribo             0.000406\n",
       "Hora_Arribo              0.000406\n",
       "Hora_Retiro              0.000203\n",
       "Edad_Usuario             0.000000\n",
       "Bici                     0.000000\n",
       "Ciclo_Estacion_Retiro    0.000000\n",
       "Fecha_Retiro             0.000000\n",
       "dtype: float64"
      ]
     },
     "execution_count": 8,
     "metadata": {},
     "output_type": "execute_result"
    }
   ],
   "source": [
    "((df.isnull().sum() / len(df))*100).sort_values(ascending = False)"
   ]
  },
  {
   "cell_type": "markdown",
   "metadata": {},
   "source": [
    "<div class=\"alert alert-info\" role=\"alert\">\n",
    "<ul>\n",
    "<li> En términos generales, se suelen considerar los siguientes grados de impacto, dependiendo del porcentaje de valores faltantes (dumb rules):\n",
    "\n",
    "- Menos de 1%: Trivial (no relevante)\n",
    "- 1-5%: Manejable\n",
    "- 5-15%: Manejable mediante métodos sofisticados\n",
    "- Más de 15%: Crítico, con impacto severo en cualquier tipo de interpretación\n",
    " \n",
    "    \n",
    "Debido a que la mayoría de la variables contiene datos ausentes con un porcentaje inferior al 1% se procederá a remover dichas muestras. La variables 'Genero_Usuario' al no rebasar el 5% de datos ausentes puede continuar dentro de las variables de análisis sin un mayor impacto que remover la muetras que contienen valores nulos.\n",
    "    \n",
    "<li> Nota: Por falta de tiempo no se lidia con los datos faltantes de la variable Genero_Usuario. En un entorno productivo si la varible sobre pasa en 1% se debe utilizar tecnicas de inputación de datos para reducir el porcentaje de valores nullos.\n",
    "    \n",
    "</div>"
   ]
  },
  {
   "cell_type": "markdown",
   "metadata": {},
   "source": [
    "### Analisis de valores faltantes"
   ]
  },
  {
   "cell_type": "code",
   "execution_count": 9,
   "metadata": {},
   "outputs": [],
   "source": [
    "# No aplica"
   ]
  },
  {
   "cell_type": "markdown",
   "metadata": {},
   "source": [
    "### Inputación de valores faltantes"
   ]
  },
  {
   "cell_type": "code",
   "execution_count": 10,
   "metadata": {},
   "outputs": [],
   "source": [
    "# Se eliminan\n",
    "df.dropna(inplace=True)"
   ]
  },
  {
   "cell_type": "code",
   "execution_count": 11,
   "metadata": {},
   "outputs": [
    {
     "data": {
      "text/plain": [
       "(481341, 9)"
      ]
     },
     "execution_count": 11,
     "metadata": {},
     "output_type": "execute_result"
    }
   ],
   "source": [
    "df.shape"
   ]
  },
  {
   "cell_type": "markdown",
   "metadata": {},
   "source": [
    "### Número de muestras eliminados\n"
   ]
  },
  {
   "cell_type": "code",
   "execution_count": 12,
   "metadata": {},
   "outputs": [
    {
     "data": {
      "text/plain": [
       "633016"
      ]
     },
     "execution_count": 12,
     "metadata": {},
     "output_type": "execute_result"
    }
   ],
   "source": [
    "\n",
    "1114357-df.shape[0]"
   ]
  },
  {
   "cell_type": "markdown",
   "metadata": {},
   "source": [
    "### Transformar columnas a formato datetime"
   ]
  },
  {
   "cell_type": "code",
   "execution_count": 13,
   "metadata": {},
   "outputs": [
    {
     "data": {
      "text/plain": [
       "Genero_Usuario            object\n",
       "Edad_Usuario               int64\n",
       "Bici                       int64\n",
       "Ciclo_Estacion_Retiro      int64\n",
       "Fecha_Retiro              object\n",
       "Hora_Retiro               object\n",
       "Ciclo_EstacionArribo     float64\n",
       "Fecha Arribo              object\n",
       "Hora_Arribo               object\n",
       "dtype: object"
      ]
     },
     "execution_count": 13,
     "metadata": {},
     "output_type": "execute_result"
    }
   ],
   "source": [
    "# Tipo de datos detectados por Pandas\n",
    "df.dtypes\n"
   ]
  },
  {
   "cell_type": "code",
   "execution_count": 14,
   "metadata": {},
   "outputs": [],
   "source": [
    "# Dar formato de datetime a las variables de tiempo y fechas \n",
    "\n",
    "df['Fecha Arribo'] = pd.to_datetime(df['Fecha Arribo'],format='%d/%m/%Y')\n",
    "df['Fecha_Retiro'] = pd.to_datetime(df['Fecha_Retiro'],format='%d/%m/%Y')\n",
    "df['Hora_Retiro_'] = pd.to_datetime(df['Hora_Retiro'],format= '%H:%M:%S',errors='ignore' ).dt.hour\n",
    "df['Minuto_Retiro'] = pd.to_datetime(df['Hora_Retiro'],format= '%H:%M:%S',errors='ignore' ).dt.minute\n",
    "df['Segundo_Retiro'] = pd.to_datetime(df['Hora_Retiro'],format= '%H:%M:%S',errors='ignore' ).dt.second\n",
    "\n",
    "\n",
    "df['Hora_Arribo_'] = pd.to_datetime(df['Hora_Arribo'],format= '%H:%M:%S',errors='ignore' ).dt.hour\n",
    "df['Minuto_Arribo'] = pd.to_datetime(df['Hora_Arribo'],format= '%H:%M:%S',errors='ignore' ).dt.minute\n",
    "df['Segundo_Arribo'] = pd.to_datetime(df['Hora_Arribo'],format= '%H:%M:%S',errors='ignore' ).dt.second\n",
    "\n"
   ]
  },
  {
   "cell_type": "code",
   "execution_count": 15,
   "metadata": {},
   "outputs": [
    {
     "data": {
      "text/plain": [
       "Genero_Usuario                   object\n",
       "Edad_Usuario                      int64\n",
       "Bici                              int64\n",
       "Ciclo_Estacion_Retiro             int64\n",
       "Fecha_Retiro             datetime64[ns]\n",
       "Hora_Retiro                      object\n",
       "Ciclo_EstacionArribo            float64\n",
       "Fecha Arribo             datetime64[ns]\n",
       "Hora_Arribo                      object\n",
       "Hora_Retiro_                      int64\n",
       "Minuto_Retiro                     int64\n",
       "Segundo_Retiro                    int64\n",
       "Hora_Arribo_                      int64\n",
       "Minuto_Arribo                     int64\n",
       "Segundo_Arribo                    int64\n",
       "dtype: object"
      ]
     },
     "execution_count": 15,
     "metadata": {},
     "output_type": "execute_result"
    }
   ],
   "source": [
    "# Ver tipo de datos \n",
    "df.dtypes\n"
   ]
  },
  {
   "cell_type": "code",
   "execution_count": 16,
   "metadata": {},
   "outputs": [
    {
     "data": {
      "text/html": [
       "<div>\n",
       "<style scoped>\n",
       "    .dataframe tbody tr th:only-of-type {\n",
       "        vertical-align: middle;\n",
       "    }\n",
       "\n",
       "    .dataframe tbody tr th {\n",
       "        vertical-align: top;\n",
       "    }\n",
       "\n",
       "    .dataframe thead th {\n",
       "        text-align: right;\n",
       "    }\n",
       "</style>\n",
       "<table border=\"1\" class=\"dataframe\">\n",
       "  <thead>\n",
       "    <tr style=\"text-align: right;\">\n",
       "      <th></th>\n",
       "      <th>Genero_Usuario</th>\n",
       "      <th>Edad_Usuario</th>\n",
       "      <th>Bici</th>\n",
       "      <th>Ciclo_Estacion_Retiro</th>\n",
       "      <th>Fecha_Retiro</th>\n",
       "      <th>Hora_Retiro</th>\n",
       "      <th>Ciclo_EstacionArribo</th>\n",
       "      <th>Fecha Arribo</th>\n",
       "      <th>Hora_Arribo</th>\n",
       "      <th>Hora_Retiro_</th>\n",
       "      <th>Minuto_Retiro</th>\n",
       "      <th>Segundo_Retiro</th>\n",
       "      <th>Hora_Arribo_</th>\n",
       "      <th>Minuto_Arribo</th>\n",
       "      <th>Segundo_Arribo</th>\n",
       "    </tr>\n",
       "  </thead>\n",
       "  <tbody>\n",
       "    <tr>\n",
       "      <th>0</th>\n",
       "      <td>M</td>\n",
       "      <td>28</td>\n",
       "      <td>11302</td>\n",
       "      <td>73</td>\n",
       "      <td>2021-07-31</td>\n",
       "      <td>23:57:44</td>\n",
       "      <td>62.0</td>\n",
       "      <td>2021-08-01</td>\n",
       "      <td>00:00:08</td>\n",
       "      <td>23</td>\n",
       "      <td>57</td>\n",
       "      <td>44</td>\n",
       "      <td>0</td>\n",
       "      <td>0</td>\n",
       "      <td>8</td>\n",
       "    </tr>\n",
       "    <tr>\n",
       "      <th>1</th>\n",
       "      <td>M</td>\n",
       "      <td>33</td>\n",
       "      <td>10571</td>\n",
       "      <td>121</td>\n",
       "      <td>2021-07-31</td>\n",
       "      <td>23:54:00</td>\n",
       "      <td>143.0</td>\n",
       "      <td>2021-08-01</td>\n",
       "      <td>00:00:59</td>\n",
       "      <td>23</td>\n",
       "      <td>54</td>\n",
       "      <td>0</td>\n",
       "      <td>0</td>\n",
       "      <td>0</td>\n",
       "      <td>59</td>\n",
       "    </tr>\n",
       "    <tr>\n",
       "      <th>2</th>\n",
       "      <td>M</td>\n",
       "      <td>19</td>\n",
       "      <td>12451</td>\n",
       "      <td>132</td>\n",
       "      <td>2021-07-31</td>\n",
       "      <td>23:52:58</td>\n",
       "      <td>122.0</td>\n",
       "      <td>2021-08-01</td>\n",
       "      <td>00:01:24</td>\n",
       "      <td>23</td>\n",
       "      <td>52</td>\n",
       "      <td>58</td>\n",
       "      <td>0</td>\n",
       "      <td>1</td>\n",
       "      <td>24</td>\n",
       "    </tr>\n",
       "    <tr>\n",
       "      <th>3</th>\n",
       "      <td>M</td>\n",
       "      <td>32</td>\n",
       "      <td>8314</td>\n",
       "      <td>7</td>\n",
       "      <td>2021-07-31</td>\n",
       "      <td>23:23:41</td>\n",
       "      <td>7.0</td>\n",
       "      <td>2021-08-01</td>\n",
       "      <td>00:01:25</td>\n",
       "      <td>23</td>\n",
       "      <td>23</td>\n",
       "      <td>41</td>\n",
       "      <td>0</td>\n",
       "      <td>1</td>\n",
       "      <td>25</td>\n",
       "    </tr>\n",
       "    <tr>\n",
       "      <th>4</th>\n",
       "      <td>F</td>\n",
       "      <td>36</td>\n",
       "      <td>7993</td>\n",
       "      <td>7</td>\n",
       "      <td>2021-07-31</td>\n",
       "      <td>23:23:17</td>\n",
       "      <td>7.0</td>\n",
       "      <td>2021-08-01</td>\n",
       "      <td>00:01:32</td>\n",
       "      <td>23</td>\n",
       "      <td>23</td>\n",
       "      <td>17</td>\n",
       "      <td>0</td>\n",
       "      <td>1</td>\n",
       "      <td>32</td>\n",
       "    </tr>\n",
       "    <tr>\n",
       "      <th>...</th>\n",
       "      <td>...</td>\n",
       "      <td>...</td>\n",
       "      <td>...</td>\n",
       "      <td>...</td>\n",
       "      <td>...</td>\n",
       "      <td>...</td>\n",
       "      <td>...</td>\n",
       "      <td>...</td>\n",
       "      <td>...</td>\n",
       "      <td>...</td>\n",
       "      <td>...</td>\n",
       "      <td>...</td>\n",
       "      <td>...</td>\n",
       "      <td>...</td>\n",
       "      <td>...</td>\n",
       "    </tr>\n",
       "    <tr>\n",
       "      <th>492095</th>\n",
       "      <td>M</td>\n",
       "      <td>67</td>\n",
       "      <td>10246</td>\n",
       "      <td>341</td>\n",
       "      <td>2021-10-06</td>\n",
       "      <td>15:54:28</td>\n",
       "      <td>321.0</td>\n",
       "      <td>2021-10-06</td>\n",
       "      <td>15:57:53</td>\n",
       "      <td>15</td>\n",
       "      <td>54</td>\n",
       "      <td>28</td>\n",
       "      <td>15</td>\n",
       "      <td>57</td>\n",
       "      <td>53</td>\n",
       "    </tr>\n",
       "    <tr>\n",
       "      <th>492096</th>\n",
       "      <td>M</td>\n",
       "      <td>24</td>\n",
       "      <td>1731</td>\n",
       "      <td>137</td>\n",
       "      <td>2021-10-06</td>\n",
       "      <td>15:50:07</td>\n",
       "      <td>121.0</td>\n",
       "      <td>2021-10-06</td>\n",
       "      <td>15:57:58</td>\n",
       "      <td>15</td>\n",
       "      <td>50</td>\n",
       "      <td>7</td>\n",
       "      <td>15</td>\n",
       "      <td>57</td>\n",
       "      <td>58</td>\n",
       "    </tr>\n",
       "    <tr>\n",
       "      <th>492097</th>\n",
       "      <td>M</td>\n",
       "      <td>24</td>\n",
       "      <td>3958</td>\n",
       "      <td>216</td>\n",
       "      <td>2021-10-06</td>\n",
       "      <td>15:51:22</td>\n",
       "      <td>217.0</td>\n",
       "      <td>2021-10-06</td>\n",
       "      <td>15:58:01</td>\n",
       "      <td>15</td>\n",
       "      <td>51</td>\n",
       "      <td>22</td>\n",
       "      <td>15</td>\n",
       "      <td>58</td>\n",
       "      <td>1</td>\n",
       "    </tr>\n",
       "    <tr>\n",
       "      <th>492098</th>\n",
       "      <td>M</td>\n",
       "      <td>37</td>\n",
       "      <td>9651</td>\n",
       "      <td>446</td>\n",
       "      <td>2021-10-06</td>\n",
       "      <td>15:49:23</td>\n",
       "      <td>407.0</td>\n",
       "      <td>2021-10-06</td>\n",
       "      <td>15:58:12</td>\n",
       "      <td>15</td>\n",
       "      <td>49</td>\n",
       "      <td>23</td>\n",
       "      <td>15</td>\n",
       "      <td>58</td>\n",
       "      <td>12</td>\n",
       "    </tr>\n",
       "    <tr>\n",
       "      <th>492099</th>\n",
       "      <td>M</td>\n",
       "      <td>38</td>\n",
       "      <td>9192</td>\n",
       "      <td>107</td>\n",
       "      <td>2021-10-06</td>\n",
       "      <td>15:27:41</td>\n",
       "      <td>173.0</td>\n",
       "      <td>2021-10-06</td>\n",
       "      <td>15:58:16</td>\n",
       "      <td>15</td>\n",
       "      <td>27</td>\n",
       "      <td>41</td>\n",
       "      <td>15</td>\n",
       "      <td>58</td>\n",
       "      <td>16</td>\n",
       "    </tr>\n",
       "  </tbody>\n",
       "</table>\n",
       "<p>481341 rows × 15 columns</p>\n",
       "</div>"
      ],
      "text/plain": [
       "       Genero_Usuario  Edad_Usuario   Bici  Ciclo_Estacion_Retiro Fecha_Retiro Hora_Retiro  Ciclo_EstacionArribo Fecha Arribo Hora_Arribo  Hora_Retiro_  Minuto_Retiro  Segundo_Retiro  Hora_Arribo_  Minuto_Arribo  Segundo_Arribo\n",
       "0                   M            28  11302                     73   2021-07-31    23:57:44                  62.0   2021-08-01    00:00:08            23             57              44             0              0               8\n",
       "1                   M            33  10571                    121   2021-07-31    23:54:00                 143.0   2021-08-01    00:00:59            23             54               0             0              0              59\n",
       "2                   M            19  12451                    132   2021-07-31    23:52:58                 122.0   2021-08-01    00:01:24            23             52              58             0              1              24\n",
       "3                   M            32   8314                      7   2021-07-31    23:23:41                   7.0   2021-08-01    00:01:25            23             23              41             0              1              25\n",
       "4                   F            36   7993                      7   2021-07-31    23:23:17                   7.0   2021-08-01    00:01:32            23             23              17             0              1              32\n",
       "...               ...           ...    ...                    ...          ...         ...                   ...          ...         ...           ...            ...             ...           ...            ...             ...\n",
       "492095              M            67  10246                    341   2021-10-06    15:54:28                 321.0   2021-10-06    15:57:53            15             54              28            15             57              53\n",
       "492096              M            24   1731                    137   2021-10-06    15:50:07                 121.0   2021-10-06    15:57:58            15             50               7            15             57              58\n",
       "492097              M            24   3958                    216   2021-10-06    15:51:22                 217.0   2021-10-06    15:58:01            15             51              22            15             58               1\n",
       "492098              M            37   9651                    446   2021-10-06    15:49:23                 407.0   2021-10-06    15:58:12            15             49              23            15             58              12\n",
       "492099              M            38   9192                    107   2021-10-06    15:27:41                 173.0   2021-10-06    15:58:16            15             27              41            15             58              16\n",
       "\n",
       "[481341 rows x 15 columns]"
      ]
     },
     "execution_count": 16,
     "metadata": {},
     "output_type": "execute_result"
    }
   ],
   "source": [
    "df"
   ]
  },
  {
   "cell_type": "markdown",
   "metadata": {},
   "source": [
    "### Valores duplicados"
   ]
  },
  {
   "cell_type": "code",
   "execution_count": 17,
   "metadata": {},
   "outputs": [],
   "source": [
    "\n",
    "# df.sort_values(['Fecha_Retiro','Bici','Hora_Retiro_'])"
   ]
  },
  {
   "cell_type": "code",
   "execution_count": 18,
   "metadata": {},
   "outputs": [],
   "source": [
    "# Remover los datos duplicados\n",
    "df.drop_duplicates(keep='first',inplace=True)"
   ]
  },
  {
   "cell_type": "code",
   "execution_count": 19,
   "metadata": {},
   "outputs": [
    {
     "data": {
      "text/plain": [
       "595990"
      ]
     },
     "execution_count": 19,
     "metadata": {},
     "output_type": "execute_result"
    }
   ],
   "source": [
    "1077331- df.shape[0]"
   ]
  },
  {
   "cell_type": "markdown",
   "metadata": {},
   "source": [
    "<div class=\"alert alert-info\" role=\"alert\">\n",
    "<ul><li> No se analizó los elementos duplicados debido a que en el dataset existe un número mínimo de estos (1)\n",
    "</div>"
   ]
  },
  {
   "cell_type": "code",
   "execution_count": null,
   "metadata": {},
   "outputs": [],
   "source": []
  },
  {
   "cell_type": "code",
   "execution_count": null,
   "metadata": {},
   "outputs": [],
   "source": []
  },
  {
   "cell_type": "markdown",
   "metadata": {},
   "source": [
    "### Verificar datos "
   ]
  },
  {
   "cell_type": "code",
   "execution_count": 20,
   "metadata": {},
   "outputs": [
    {
     "data": {
      "text/plain": [
       "Genero_Usuario           0.0\n",
       "Edad_Usuario             0.0\n",
       "Bici                     0.0\n",
       "Ciclo_Estacion_Retiro    0.0\n",
       "Fecha_Retiro             0.0\n",
       "Hora_Retiro              0.0\n",
       "Ciclo_EstacionArribo     0.0\n",
       "Fecha Arribo             0.0\n",
       "Hora_Arribo              0.0\n",
       "Hora_Retiro_             0.0\n",
       "Minuto_Retiro            0.0\n",
       "Segundo_Retiro           0.0\n",
       "Hora_Arribo_             0.0\n",
       "Minuto_Arribo            0.0\n",
       "Segundo_Arribo           0.0\n",
       "dtype: float64"
      ]
     },
     "execution_count": 20,
     "metadata": {},
     "output_type": "execute_result"
    }
   ],
   "source": [
    "# Datos nulos\n",
    "((df.isnull().sum() / len(df))*100).sort_values(ascending = False)"
   ]
  },
  {
   "cell_type": "markdown",
   "metadata": {},
   "source": []
  },
  {
   "cell_type": "markdown",
   "metadata": {},
   "source": [
    "### Obtener el nombre de las variables categorical"
   ]
  },
  {
   "cell_type": "code",
   "execution_count": 21,
   "metadata": {},
   "outputs": [],
   "source": [
    "### No aplica"
   ]
  },
  {
   "cell_type": "markdown",
   "metadata": {},
   "source": [
    "### Convertir las variables a tipo `category`"
   ]
  },
  {
   "cell_type": "code",
   "execution_count": 22,
   "metadata": {},
   "outputs": [],
   "source": [
    "# NO aplica"
   ]
  },
  {
   "cell_type": "code",
   "execution_count": null,
   "metadata": {},
   "outputs": [],
   "source": []
  },
  {
   "cell_type": "markdown",
   "metadata": {},
   "source": [
    "### Almacenar el `dataframe` en formato pickle "
   ]
  },
  {
   "cell_type": "code",
   "execution_count": 23,
   "metadata": {},
   "outputs": [
    {
     "data": {
      "text/html": [
       "<div>\n",
       "<style scoped>\n",
       "    .dataframe tbody tr th:only-of-type {\n",
       "        vertical-align: middle;\n",
       "    }\n",
       "\n",
       "    .dataframe tbody tr th {\n",
       "        vertical-align: top;\n",
       "    }\n",
       "\n",
       "    .dataframe thead th {\n",
       "        text-align: right;\n",
       "    }\n",
       "</style>\n",
       "<table border=\"1\" class=\"dataframe\">\n",
       "  <thead>\n",
       "    <tr style=\"text-align: right;\">\n",
       "      <th></th>\n",
       "      <th>Genero_Usuario</th>\n",
       "      <th>Edad_Usuario</th>\n",
       "      <th>Bici</th>\n",
       "      <th>Ciclo_Estacion_Retiro</th>\n",
       "      <th>Fecha_Retiro</th>\n",
       "      <th>Hora_Retiro</th>\n",
       "      <th>Ciclo_EstacionArribo</th>\n",
       "      <th>Fecha Arribo</th>\n",
       "      <th>Hora_Arribo</th>\n",
       "      <th>Hora_Retiro_</th>\n",
       "      <th>Minuto_Retiro</th>\n",
       "      <th>Segundo_Retiro</th>\n",
       "      <th>Hora_Arribo_</th>\n",
       "      <th>Minuto_Arribo</th>\n",
       "      <th>Segundo_Arribo</th>\n",
       "    </tr>\n",
       "  </thead>\n",
       "  <tbody>\n",
       "    <tr>\n",
       "      <th>0</th>\n",
       "      <td>M</td>\n",
       "      <td>28</td>\n",
       "      <td>11302</td>\n",
       "      <td>73</td>\n",
       "      <td>2021-07-31</td>\n",
       "      <td>23:57:44</td>\n",
       "      <td>62.0</td>\n",
       "      <td>2021-08-01</td>\n",
       "      <td>00:00:08</td>\n",
       "      <td>23</td>\n",
       "      <td>57</td>\n",
       "      <td>44</td>\n",
       "      <td>0</td>\n",
       "      <td>0</td>\n",
       "      <td>8</td>\n",
       "    </tr>\n",
       "    <tr>\n",
       "      <th>1</th>\n",
       "      <td>M</td>\n",
       "      <td>33</td>\n",
       "      <td>10571</td>\n",
       "      <td>121</td>\n",
       "      <td>2021-07-31</td>\n",
       "      <td>23:54:00</td>\n",
       "      <td>143.0</td>\n",
       "      <td>2021-08-01</td>\n",
       "      <td>00:00:59</td>\n",
       "      <td>23</td>\n",
       "      <td>54</td>\n",
       "      <td>0</td>\n",
       "      <td>0</td>\n",
       "      <td>0</td>\n",
       "      <td>59</td>\n",
       "    </tr>\n",
       "    <tr>\n",
       "      <th>2</th>\n",
       "      <td>M</td>\n",
       "      <td>19</td>\n",
       "      <td>12451</td>\n",
       "      <td>132</td>\n",
       "      <td>2021-07-31</td>\n",
       "      <td>23:52:58</td>\n",
       "      <td>122.0</td>\n",
       "      <td>2021-08-01</td>\n",
       "      <td>00:01:24</td>\n",
       "      <td>23</td>\n",
       "      <td>52</td>\n",
       "      <td>58</td>\n",
       "      <td>0</td>\n",
       "      <td>1</td>\n",
       "      <td>24</td>\n",
       "    </tr>\n",
       "    <tr>\n",
       "      <th>3</th>\n",
       "      <td>M</td>\n",
       "      <td>32</td>\n",
       "      <td>8314</td>\n",
       "      <td>7</td>\n",
       "      <td>2021-07-31</td>\n",
       "      <td>23:23:41</td>\n",
       "      <td>7.0</td>\n",
       "      <td>2021-08-01</td>\n",
       "      <td>00:01:25</td>\n",
       "      <td>23</td>\n",
       "      <td>23</td>\n",
       "      <td>41</td>\n",
       "      <td>0</td>\n",
       "      <td>1</td>\n",
       "      <td>25</td>\n",
       "    </tr>\n",
       "    <tr>\n",
       "      <th>4</th>\n",
       "      <td>F</td>\n",
       "      <td>36</td>\n",
       "      <td>7993</td>\n",
       "      <td>7</td>\n",
       "      <td>2021-07-31</td>\n",
       "      <td>23:23:17</td>\n",
       "      <td>7.0</td>\n",
       "      <td>2021-08-01</td>\n",
       "      <td>00:01:32</td>\n",
       "      <td>23</td>\n",
       "      <td>23</td>\n",
       "      <td>17</td>\n",
       "      <td>0</td>\n",
       "      <td>1</td>\n",
       "      <td>32</td>\n",
       "    </tr>\n",
       "    <tr>\n",
       "      <th>...</th>\n",
       "      <td>...</td>\n",
       "      <td>...</td>\n",
       "      <td>...</td>\n",
       "      <td>...</td>\n",
       "      <td>...</td>\n",
       "      <td>...</td>\n",
       "      <td>...</td>\n",
       "      <td>...</td>\n",
       "      <td>...</td>\n",
       "      <td>...</td>\n",
       "      <td>...</td>\n",
       "      <td>...</td>\n",
       "      <td>...</td>\n",
       "      <td>...</td>\n",
       "      <td>...</td>\n",
       "    </tr>\n",
       "    <tr>\n",
       "      <th>492095</th>\n",
       "      <td>M</td>\n",
       "      <td>67</td>\n",
       "      <td>10246</td>\n",
       "      <td>341</td>\n",
       "      <td>2021-10-06</td>\n",
       "      <td>15:54:28</td>\n",
       "      <td>321.0</td>\n",
       "      <td>2021-10-06</td>\n",
       "      <td>15:57:53</td>\n",
       "      <td>15</td>\n",
       "      <td>54</td>\n",
       "      <td>28</td>\n",
       "      <td>15</td>\n",
       "      <td>57</td>\n",
       "      <td>53</td>\n",
       "    </tr>\n",
       "    <tr>\n",
       "      <th>492096</th>\n",
       "      <td>M</td>\n",
       "      <td>24</td>\n",
       "      <td>1731</td>\n",
       "      <td>137</td>\n",
       "      <td>2021-10-06</td>\n",
       "      <td>15:50:07</td>\n",
       "      <td>121.0</td>\n",
       "      <td>2021-10-06</td>\n",
       "      <td>15:57:58</td>\n",
       "      <td>15</td>\n",
       "      <td>50</td>\n",
       "      <td>7</td>\n",
       "      <td>15</td>\n",
       "      <td>57</td>\n",
       "      <td>58</td>\n",
       "    </tr>\n",
       "    <tr>\n",
       "      <th>492097</th>\n",
       "      <td>M</td>\n",
       "      <td>24</td>\n",
       "      <td>3958</td>\n",
       "      <td>216</td>\n",
       "      <td>2021-10-06</td>\n",
       "      <td>15:51:22</td>\n",
       "      <td>217.0</td>\n",
       "      <td>2021-10-06</td>\n",
       "      <td>15:58:01</td>\n",
       "      <td>15</td>\n",
       "      <td>51</td>\n",
       "      <td>22</td>\n",
       "      <td>15</td>\n",
       "      <td>58</td>\n",
       "      <td>1</td>\n",
       "    </tr>\n",
       "    <tr>\n",
       "      <th>492098</th>\n",
       "      <td>M</td>\n",
       "      <td>37</td>\n",
       "      <td>9651</td>\n",
       "      <td>446</td>\n",
       "      <td>2021-10-06</td>\n",
       "      <td>15:49:23</td>\n",
       "      <td>407.0</td>\n",
       "      <td>2021-10-06</td>\n",
       "      <td>15:58:12</td>\n",
       "      <td>15</td>\n",
       "      <td>49</td>\n",
       "      <td>23</td>\n",
       "      <td>15</td>\n",
       "      <td>58</td>\n",
       "      <td>12</td>\n",
       "    </tr>\n",
       "    <tr>\n",
       "      <th>492099</th>\n",
       "      <td>M</td>\n",
       "      <td>38</td>\n",
       "      <td>9192</td>\n",
       "      <td>107</td>\n",
       "      <td>2021-10-06</td>\n",
       "      <td>15:27:41</td>\n",
       "      <td>173.0</td>\n",
       "      <td>2021-10-06</td>\n",
       "      <td>15:58:16</td>\n",
       "      <td>15</td>\n",
       "      <td>27</td>\n",
       "      <td>41</td>\n",
       "      <td>15</td>\n",
       "      <td>58</td>\n",
       "      <td>16</td>\n",
       "    </tr>\n",
       "  </tbody>\n",
       "</table>\n",
       "<p>481341 rows × 15 columns</p>\n",
       "</div>"
      ],
      "text/plain": [
       "       Genero_Usuario  Edad_Usuario   Bici  Ciclo_Estacion_Retiro Fecha_Retiro Hora_Retiro  Ciclo_EstacionArribo Fecha Arribo Hora_Arribo  Hora_Retiro_  Minuto_Retiro  Segundo_Retiro  Hora_Arribo_  Minuto_Arribo  Segundo_Arribo\n",
       "0                   M            28  11302                     73   2021-07-31    23:57:44                  62.0   2021-08-01    00:00:08            23             57              44             0              0               8\n",
       "1                   M            33  10571                    121   2021-07-31    23:54:00                 143.0   2021-08-01    00:00:59            23             54               0             0              0              59\n",
       "2                   M            19  12451                    132   2021-07-31    23:52:58                 122.0   2021-08-01    00:01:24            23             52              58             0              1              24\n",
       "3                   M            32   8314                      7   2021-07-31    23:23:41                   7.0   2021-08-01    00:01:25            23             23              41             0              1              25\n",
       "4                   F            36   7993                      7   2021-07-31    23:23:17                   7.0   2021-08-01    00:01:32            23             23              17             0              1              32\n",
       "...               ...           ...    ...                    ...          ...         ...                   ...          ...         ...           ...            ...             ...           ...            ...             ...\n",
       "492095              M            67  10246                    341   2021-10-06    15:54:28                 321.0   2021-10-06    15:57:53            15             54              28            15             57              53\n",
       "492096              M            24   1731                    137   2021-10-06    15:50:07                 121.0   2021-10-06    15:57:58            15             50               7            15             57              58\n",
       "492097              M            24   3958                    216   2021-10-06    15:51:22                 217.0   2021-10-06    15:58:01            15             51              22            15             58               1\n",
       "492098              M            37   9651                    446   2021-10-06    15:49:23                 407.0   2021-10-06    15:58:12            15             49              23            15             58              12\n",
       "492099              M            38   9192                    107   2021-10-06    15:27:41                 173.0   2021-10-06    15:58:16            15             27              41            15             58              16\n",
       "\n",
       "[481341 rows x 15 columns]"
      ]
     },
     "execution_count": 23,
     "metadata": {},
     "output_type": "execute_result"
    }
   ],
   "source": [
    "df"
   ]
  },
  {
   "cell_type": "code",
   "execution_count": 24,
   "metadata": {},
   "outputs": [],
   "source": [
    "# Store data en formar pickle\n",
    "with open('../data/interim/dataset_cleaning_level_1.pickle', 'wb') as handle:\n",
    "    pickle.dump(df, handle)"
   ]
  },
  {
   "cell_type": "code",
   "execution_count": null,
   "metadata": {},
   "outputs": [],
   "source": []
  },
  {
   "cell_type": "code",
   "execution_count": null,
   "metadata": {},
   "outputs": [],
   "source": []
  },
  {
   "cell_type": "code",
   "execution_count": null,
   "metadata": {},
   "outputs": [],
   "source": []
  }
 ],
 "metadata": {
  "kernelspec": {
   "display_name": "Python 3 (ipykernel)",
   "language": "python",
   "name": "python3"
  },
  "language_info": {
   "codemirror_mode": {
    "name": "ipython",
    "version": 3
   },
   "file_extension": ".py",
   "mimetype": "text/x-python",
   "name": "python",
   "nbconvert_exporter": "python",
   "pygments_lexer": "ipython3",
   "version": "3.10.8"
  }
 },
 "nbformat": 4,
 "nbformat_minor": 4
}
