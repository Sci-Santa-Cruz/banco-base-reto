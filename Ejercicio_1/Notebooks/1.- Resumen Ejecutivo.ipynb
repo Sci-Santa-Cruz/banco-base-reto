{
 "cells": [
  {
   "cell_type": "markdown",
   "metadata": {},
   "source": [
    "\n",
    "<div class=\"jumbotron\">\n",
    "  <h1><i class=\"fa fa-bar-chart\" aria-hidden=\"true\"></i> Resumen Ejecutivo</h1>\n",
    "  <p></p>\n",
    "</div>\n"
   ]
  },
  {
   "cell_type": "markdown",
   "metadata": {},
   "source": [
    "### Objetivo del documento\n",
    "El documento pretende mostrar los requerimientos, alcance y orden en que se debe vizualizar los notebooks de las tares de analítica.\n",
    "\n",
    "- Resumen ejecutivo\n",
    "- Integración y limpieza de datos\n",
    "- Exploración de datos\n",
    "\n",
    "El resto de los notebooks son códigos asociados a tareas de ingeriería de software, procesos operativos y tareas de despliegue de ambietes. Son irrelevantes para comprender los resultados de analítica, sin embargo se documenta en el archivo readme.md del proyecto.\n"
   ]
  },
  {
   "cell_type": "markdown",
   "metadata": {},
   "source": [
    "### Objetivo\n",
    "\n",
    "1. Integracíon de las fuentes de datos\n",
    "2. Análisis exploratorio de datos\n",
    "3. Insigths y respuestas a las preguntas de negocio"
   ]
  },
  {
   "cell_type": "markdown",
   "metadata": {},
   "source": [
    "### Descripción\n",
    "\n",
    "En la página de datos abiertos de Ecobici, descarga los datos de movilidad de los\n",
    "meses: agosto, septiembre y octubre de 2021 y realiza los siguientes incisos:\n",
    "\n",
    "- 1.1 ¿En qué horarios hay mayor afluencia y en qué estaciones? Da una breve\n",
    "descripción de por qué crees que es así. Si consideras remover outliers, justifica el\n",
    "método que empleaste y, en caso de que no remuevas outliers, argumenta\n",
    "estadísticamente tu decisión.\n",
    "\n",
    "- 1.2. Usa un método de aprendizaje no supervisado para encontrar perfiles de uso\n",
    "de las estaciones. El objetivo es categorizar a las estaciones en diferentes grupos a\n",
    "partir de su comportamiento de entradas, salidas y tipo de usuarios.\n",
    "a. Explica qué método usaste y por qué.\n",
    "b. Describe detalladamente cómo decidiste el número de grupos. Es decir:\n",
    "¿qué criterio elegiste?, ¿por qué? y ¿de qué tipo? Por ejemplo, di si utilizaste\n",
    "un criterio de información o un criterio no cuantitativo.\n",
    "c. De los grupos que encontraste, describe las características que puedes\n",
    "inferir de estos.\n",
    "\n",
    "- 1.3. En el sitio de Ecobici puedes consultar el Mapa de movilidad. Analízalo a\n",
    "profundidad y recomienda una arquitectura utilizando servicios de cualquier\n",
    "proveedor cloud para realizar solo la visualización del mapa (solo proponla, no es\n",
    "necesario que la construyas).\n",
    "\n",
    "Esta debe contemplar la ingesta de los datos que requieres para realizar la\n",
    "visualización, cómo y en qué los almacenarías, el framework y sus complementos\n",
    "mínimos para construir la visualización, etc.\n",
    "- a) Debes incluir un diagrama de la arquitectura propuesta.\n",
    "- b) Incluye una redacción explicando la arquitectura."
   ]
  },
  {
   "cell_type": "markdown",
   "metadata": {},
   "source": [
    "### Objetivos Estratégicos\n",
    "\n",
    "- Reproducibilidad\n",
    "- Legibilidad de código \n",
    "- Documentación"
   ]
  },
  {
   "cell_type": "markdown",
   "metadata": {},
   "source": [
    "### Alcance\n",
    "\n",
    "- Entendimiento del problema\n",
    "- Preparación de datos\n",
    "- Exploración de datos\n",
    "- Respuestas a las preguntas de negocio\n",
    "- Documentación del proceso de análisis y modelado de datos\n"
   ]
  },
  {
   "cell_type": "markdown",
   "metadata": {},
   "source": [
    "### Tecnologías\n",
    "\n",
    "- Python\n",
    "- Jupyter\n",
    "\n"
   ]
  },
  {
   "cell_type": "markdown",
   "metadata": {},
   "source": [
    "### Fechas \n",
    "\n",
    "- Fecha de entrega 17 de enero de 2023\n"
   ]
  },
  {
   "cell_type": "markdown",
   "metadata": {},
   "source": [
    "### Contexto a alto nivel\n",
    "\n",
    "NA"
   ]
  },
  {
   "cell_type": "markdown",
   "metadata": {},
   "source": [
    "### Metodología\n",
    "\n",
    "\n",
    "Debido al periodo reducido de tiempo utilizaremos el framework reducido de _design thinking_ + _scrum_ + _lean_. El cual al enfocarse a un solución basa en datos se denomina _Data thinking_ .\n",
    "\n",
    "Este framework sólo se utiliza para la la etapa de _design thinking_ y la primera iteración en la cual se construye el prototipo. Es decir el MVP, el cual le confirma el cliente que es viable una solución basada en datos."
   ]
  },
  {
   "cell_type": "markdown",
   "metadata": {},
   "source": [
    "<img src=\"../images/data_thinking_prototipado.png\" alt=\"Drawing\" style=\"width:900px;\"/>"
   ]
  },
  {
   "cell_type": "markdown",
   "metadata": {},
   "source": [
    "Como metodología nativa de datos se utiliza CRISP-DM "
   ]
  },
  {
   "cell_type": "markdown",
   "metadata": {},
   "source": [
    "\n",
    "<img src=\"../images/crisp_dm_flow01.png\" alt=\"Drawing\" style=\"width:900px;\"/>\n"
   ]
  },
  {
   "cell_type": "markdown",
   "metadata": {},
   "source": [
    "### WorkFlow\n",
    "\n",
    "El siguiente flujo es a un alto nivel, y describe el proceso para generar el prototipo de la solución. Para este caso es específico, el alcance es hasta el nivel de exploración de datos."
   ]
  },
  {
   "cell_type": "markdown",
   "metadata": {},
   "source": [
    "<img src=\"../images/work_flow.png\" alt=\"Drawing\" style=\"width:900px;\"/>\n"
   ]
  },
  {
   "cell_type": "markdown",
   "metadata": {},
   "source": [
    "# Planeación"
   ]
  },
  {
   "cell_type": "markdown",
   "metadata": {},
   "source": [
    "NA\n"
   ]
  },
  {
   "cell_type": "code",
   "execution_count": null,
   "metadata": {},
   "outputs": [],
   "source": []
  }
 ],
 "metadata": {
  "kernelspec": {
   "display_name": "Python 3 (ipykernel)",
   "language": "python",
   "name": "python3"
  },
  "language_info": {
   "codemirror_mode": {
    "name": "ipython",
    "version": 3
   },
   "file_extension": ".py",
   "mimetype": "text/x-python",
   "name": "python",
   "nbconvert_exporter": "python",
   "pygments_lexer": "ipython3",
   "version": "3.10.8"
  }
 },
 "nbformat": 4,
 "nbformat_minor": 4
}
